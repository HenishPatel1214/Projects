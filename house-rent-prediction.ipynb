{
 "cells": [
  {
   "cell_type": "code",
   "execution_count": 1,
   "id": "4d19d655",
   "metadata": {
    "_cell_guid": "b1076dfc-b9ad-4769-8c92-a6c4dae69d19",
    "_uuid": "8f2839f25d086af736a60e9eeb907d3b93b6e0e5",
    "execution": {
     "iopub.execute_input": "2023-11-05T02:00:57.157178Z",
     "iopub.status.busy": "2023-11-05T02:00:57.156792Z",
     "iopub.status.idle": "2023-11-05T02:00:57.515657Z",
     "shell.execute_reply": "2023-11-05T02:00:57.514915Z"
    },
    "papermill": {
     "duration": 0.382946,
     "end_time": "2023-11-05T02:00:57.519498",
     "exception": false,
     "start_time": "2023-11-05T02:00:57.136552",
     "status": "completed"
    },
    "tags": []
   },
   "outputs": [
    {
     "name": "stdout",
     "output_type": "stream",
     "text": [
      "/kaggle/input/house-rent-prediction-dataset/Dataset Glossary.txt\n",
      "/kaggle/input/house-rent-prediction-dataset/House_Rent_Dataset.csv\n"
     ]
    }
   ],
   "source": [
    "# This Python 3 environment comes with many helpful analytics libraries installed\n",
    "# It is defined by the kaggle/python Docker image: https://github.com/kaggle/docker-python\n",
    "# For example, here's several helpful packages to load\n",
    "\n",
    "import numpy as np # linear algebra\n",
    "import pandas as pd # data processing, CSV file I/O (e.g. pd.read_csv)\n",
    "\n",
    "# Input data files are available in the read-only \"../input/\" directory\n",
    "# For example, running this (by clicking run or pressing Shift+Enter) will list all files under the input directory\n",
    "\n",
    "import os\n",
    "for dirname, _, filenames in os.walk('/kaggle/input'):\n",
    "    for filename in filenames:\n",
    "        print(os.path.join(dirname, filename))\n",
    "\n",
    "# You can write up to 20GB to the current directory (/kaggle/working/) that gets preserved as output when you create a version using \"Save & Run All\" \n",
    "# You can also write temporary files to /kaggle/temp/, but they won't be saved outside of the current session"
   ]
  },
  {
   "cell_type": "code",
   "execution_count": 2,
   "id": "23456659",
   "metadata": {
    "execution": {
     "iopub.execute_input": "2023-11-05T02:00:57.557406Z",
     "iopub.status.busy": "2023-11-05T02:00:57.556589Z",
     "iopub.status.idle": "2023-11-05T02:00:58.973464Z",
     "shell.execute_reply": "2023-11-05T02:00:58.972545Z"
    },
    "papermill": {
     "duration": 1.438329,
     "end_time": "2023-11-05T02:00:58.975977",
     "exception": false,
     "start_time": "2023-11-05T02:00:57.537648",
     "status": "completed"
    },
    "tags": []
   },
   "outputs": [],
   "source": [
    "import matplotlib.pyplot as plt\n",
    "import seaborn as sns\n",
    "import datetime as dt\n",
    "\n",
    "sns.set_style(\"whitegrid\")\n",
    "sns.set_palette(\"RdBu\")"
   ]
  },
  {
   "cell_type": "code",
   "execution_count": 3,
   "id": "da8d7360",
   "metadata": {
    "execution": {
     "iopub.execute_input": "2023-11-05T02:00:59.014525Z",
     "iopub.status.busy": "2023-11-05T02:00:59.013962Z",
     "iopub.status.idle": "2023-11-05T02:00:59.052322Z",
     "shell.execute_reply": "2023-11-05T02:00:59.051290Z"
    },
    "papermill": {
     "duration": 0.060511,
     "end_time": "2023-11-05T02:00:59.054790",
     "exception": false,
     "start_time": "2023-11-05T02:00:58.994279",
     "status": "completed"
    },
    "tags": []
   },
   "outputs": [],
   "source": [
    "data = pd.read_csv(\"/kaggle/input/house-rent-prediction-dataset/House_Rent_Dataset.csv\")"
   ]
  },
  {
   "cell_type": "code",
   "execution_count": 4,
   "id": "5985533b",
   "metadata": {
    "execution": {
     "iopub.execute_input": "2023-11-05T02:00:59.092117Z",
     "iopub.status.busy": "2023-11-05T02:00:59.091349Z",
     "iopub.status.idle": "2023-11-05T02:00:59.115126Z",
     "shell.execute_reply": "2023-11-05T02:00:59.114079Z"
    },
    "papermill": {
     "duration": 0.044873,
     "end_time": "2023-11-05T02:00:59.117324",
     "exception": false,
     "start_time": "2023-11-05T02:00:59.072451",
     "status": "completed"
    },
    "tags": []
   },
   "outputs": [
    {
     "data": {
      "text/html": [
       "<div>\n",
       "<style scoped>\n",
       "    .dataframe tbody tr th:only-of-type {\n",
       "        vertical-align: middle;\n",
       "    }\n",
       "\n",
       "    .dataframe tbody tr th {\n",
       "        vertical-align: top;\n",
       "    }\n",
       "\n",
       "    .dataframe thead th {\n",
       "        text-align: right;\n",
       "    }\n",
       "</style>\n",
       "<table border=\"1\" class=\"dataframe\">\n",
       "  <thead>\n",
       "    <tr style=\"text-align: right;\">\n",
       "      <th></th>\n",
       "      <th>Posted On</th>\n",
       "      <th>BHK</th>\n",
       "      <th>Rent</th>\n",
       "      <th>Size</th>\n",
       "      <th>Floor</th>\n",
       "      <th>Area Type</th>\n",
       "      <th>Area Locality</th>\n",
       "      <th>City</th>\n",
       "      <th>Furnishing Status</th>\n",
       "      <th>Tenant Preferred</th>\n",
       "      <th>Bathroom</th>\n",
       "      <th>Point of Contact</th>\n",
       "    </tr>\n",
       "  </thead>\n",
       "  <tbody>\n",
       "    <tr>\n",
       "      <th>0</th>\n",
       "      <td>2022-05-18</td>\n",
       "      <td>2</td>\n",
       "      <td>10000</td>\n",
       "      <td>1100</td>\n",
       "      <td>Ground out of 2</td>\n",
       "      <td>Super Area</td>\n",
       "      <td>Bandel</td>\n",
       "      <td>Kolkata</td>\n",
       "      <td>Unfurnished</td>\n",
       "      <td>Bachelors/Family</td>\n",
       "      <td>2</td>\n",
       "      <td>Contact Owner</td>\n",
       "    </tr>\n",
       "    <tr>\n",
       "      <th>1</th>\n",
       "      <td>2022-05-13</td>\n",
       "      <td>2</td>\n",
       "      <td>20000</td>\n",
       "      <td>800</td>\n",
       "      <td>1 out of 3</td>\n",
       "      <td>Super Area</td>\n",
       "      <td>Phool Bagan, Kankurgachi</td>\n",
       "      <td>Kolkata</td>\n",
       "      <td>Semi-Furnished</td>\n",
       "      <td>Bachelors/Family</td>\n",
       "      <td>1</td>\n",
       "      <td>Contact Owner</td>\n",
       "    </tr>\n",
       "    <tr>\n",
       "      <th>2</th>\n",
       "      <td>2022-05-16</td>\n",
       "      <td>2</td>\n",
       "      <td>17000</td>\n",
       "      <td>1000</td>\n",
       "      <td>1 out of 3</td>\n",
       "      <td>Super Area</td>\n",
       "      <td>Salt Lake City Sector 2</td>\n",
       "      <td>Kolkata</td>\n",
       "      <td>Semi-Furnished</td>\n",
       "      <td>Bachelors/Family</td>\n",
       "      <td>1</td>\n",
       "      <td>Contact Owner</td>\n",
       "    </tr>\n",
       "    <tr>\n",
       "      <th>3</th>\n",
       "      <td>2022-07-04</td>\n",
       "      <td>2</td>\n",
       "      <td>10000</td>\n",
       "      <td>800</td>\n",
       "      <td>1 out of 2</td>\n",
       "      <td>Super Area</td>\n",
       "      <td>Dumdum Park</td>\n",
       "      <td>Kolkata</td>\n",
       "      <td>Unfurnished</td>\n",
       "      <td>Bachelors/Family</td>\n",
       "      <td>1</td>\n",
       "      <td>Contact Owner</td>\n",
       "    </tr>\n",
       "    <tr>\n",
       "      <th>4</th>\n",
       "      <td>2022-05-09</td>\n",
       "      <td>2</td>\n",
       "      <td>7500</td>\n",
       "      <td>850</td>\n",
       "      <td>1 out of 2</td>\n",
       "      <td>Carpet Area</td>\n",
       "      <td>South Dum Dum</td>\n",
       "      <td>Kolkata</td>\n",
       "      <td>Unfurnished</td>\n",
       "      <td>Bachelors</td>\n",
       "      <td>1</td>\n",
       "      <td>Contact Owner</td>\n",
       "    </tr>\n",
       "  </tbody>\n",
       "</table>\n",
       "</div>"
      ],
      "text/plain": [
       "    Posted On  BHK   Rent  Size            Floor    Area Type  \\\n",
       "0  2022-05-18    2  10000  1100  Ground out of 2   Super Area   \n",
       "1  2022-05-13    2  20000   800       1 out of 3   Super Area   \n",
       "2  2022-05-16    2  17000  1000       1 out of 3   Super Area   \n",
       "3  2022-07-04    2  10000   800       1 out of 2   Super Area   \n",
       "4  2022-05-09    2   7500   850       1 out of 2  Carpet Area   \n",
       "\n",
       "              Area Locality     City Furnishing Status  Tenant Preferred  \\\n",
       "0                    Bandel  Kolkata       Unfurnished  Bachelors/Family   \n",
       "1  Phool Bagan, Kankurgachi  Kolkata    Semi-Furnished  Bachelors/Family   \n",
       "2   Salt Lake City Sector 2  Kolkata    Semi-Furnished  Bachelors/Family   \n",
       "3               Dumdum Park  Kolkata       Unfurnished  Bachelors/Family   \n",
       "4             South Dum Dum  Kolkata       Unfurnished         Bachelors   \n",
       "\n",
       "   Bathroom Point of Contact  \n",
       "0         2    Contact Owner  \n",
       "1         1    Contact Owner  \n",
       "2         1    Contact Owner  \n",
       "3         1    Contact Owner  \n",
       "4         1    Contact Owner  "
      ]
     },
     "execution_count": 4,
     "metadata": {},
     "output_type": "execute_result"
    }
   ],
   "source": [
    "data.head()"
   ]
  },
  {
   "cell_type": "code",
   "execution_count": 5,
   "id": "6058a615",
   "metadata": {
    "execution": {
     "iopub.execute_input": "2023-11-05T02:00:59.154076Z",
     "iopub.status.busy": "2023-11-05T02:00:59.153692Z",
     "iopub.status.idle": "2023-11-05T02:00:59.181024Z",
     "shell.execute_reply": "2023-11-05T02:00:59.179770Z"
    },
    "papermill": {
     "duration": 0.048512,
     "end_time": "2023-11-05T02:00:59.183305",
     "exception": false,
     "start_time": "2023-11-05T02:00:59.134793",
     "status": "completed"
    },
    "tags": []
   },
   "outputs": [
    {
     "name": "stdout",
     "output_type": "stream",
     "text": [
      "<class 'pandas.core.frame.DataFrame'>\n",
      "RangeIndex: 4746 entries, 0 to 4745\n",
      "Data columns (total 12 columns):\n",
      " #   Column             Non-Null Count  Dtype \n",
      "---  ------             --------------  ----- \n",
      " 0   Posted On          4746 non-null   object\n",
      " 1   BHK                4746 non-null   int64 \n",
      " 2   Rent               4746 non-null   int64 \n",
      " 3   Size               4746 non-null   int64 \n",
      " 4   Floor              4746 non-null   object\n",
      " 5   Area Type          4746 non-null   object\n",
      " 6   Area Locality      4746 non-null   object\n",
      " 7   City               4746 non-null   object\n",
      " 8   Furnishing Status  4746 non-null   object\n",
      " 9   Tenant Preferred   4746 non-null   object\n",
      " 10  Bathroom           4746 non-null   int64 \n",
      " 11  Point of Contact   4746 non-null   object\n",
      "dtypes: int64(4), object(8)\n",
      "memory usage: 445.1+ KB\n"
     ]
    }
   ],
   "source": [
    "data.info()"
   ]
  },
  {
   "cell_type": "code",
   "execution_count": 6,
   "id": "2d80f4ae",
   "metadata": {
    "execution": {
     "iopub.execute_input": "2023-11-05T02:00:59.274674Z",
     "iopub.status.busy": "2023-11-05T02:00:59.273960Z",
     "iopub.status.idle": "2023-11-05T02:00:59.284892Z",
     "shell.execute_reply": "2023-11-05T02:00:59.284084Z"
    },
    "papermill": {
     "duration": 0.085923,
     "end_time": "2023-11-05T02:00:59.286901",
     "exception": false,
     "start_time": "2023-11-05T02:00:59.200978",
     "status": "completed"
    },
    "tags": []
   },
   "outputs": [
    {
     "data": {
      "text/plain": [
       "Posted On            0.0\n",
       "BHK                  0.0\n",
       "Rent                 0.0\n",
       "Size                 0.0\n",
       "Floor                0.0\n",
       "Area Type            0.0\n",
       "Area Locality        0.0\n",
       "City                 0.0\n",
       "Furnishing Status    0.0\n",
       "Tenant Preferred     0.0\n",
       "Bathroom             0.0\n",
       "Point of Contact     0.0\n",
       "dtype: float64"
      ]
     },
     "execution_count": 6,
     "metadata": {},
     "output_type": "execute_result"
    }
   ],
   "source": [
    "data.isna().sum() / data.shape[0]"
   ]
  },
  {
   "cell_type": "code",
   "execution_count": 7,
   "id": "33f869a2",
   "metadata": {
    "execution": {
     "iopub.execute_input": "2023-11-05T02:00:59.324763Z",
     "iopub.status.busy": "2023-11-05T02:00:59.324060Z",
     "iopub.status.idle": "2023-11-05T02:00:59.338947Z",
     "shell.execute_reply": "2023-11-05T02:00:59.338119Z"
    },
    "papermill": {
     "duration": 0.035832,
     "end_time": "2023-11-05T02:00:59.341033",
     "exception": false,
     "start_time": "2023-11-05T02:00:59.305201",
     "status": "completed"
    },
    "tags": []
   },
   "outputs": [
    {
     "data": {
      "text/plain": [
       "False"
      ]
     },
     "execution_count": 7,
     "metadata": {},
     "output_type": "execute_result"
    }
   ],
   "source": [
    "data.duplicated().any()"
   ]
  },
  {
   "cell_type": "code",
   "execution_count": 8,
   "id": "cbe68b9e",
   "metadata": {
    "execution": {
     "iopub.execute_input": "2023-11-05T02:00:59.378432Z",
     "iopub.status.busy": "2023-11-05T02:00:59.377643Z",
     "iopub.status.idle": "2023-11-05T02:00:59.399262Z",
     "shell.execute_reply": "2023-11-05T02:00:59.398375Z"
    },
    "papermill": {
     "duration": 0.042503,
     "end_time": "2023-11-05T02:00:59.401276",
     "exception": false,
     "start_time": "2023-11-05T02:00:59.358773",
     "status": "completed"
    },
    "tags": []
   },
   "outputs": [
    {
     "data": {
      "text/html": [
       "<div>\n",
       "<style scoped>\n",
       "    .dataframe tbody tr th:only-of-type {\n",
       "        vertical-align: middle;\n",
       "    }\n",
       "\n",
       "    .dataframe tbody tr th {\n",
       "        vertical-align: top;\n",
       "    }\n",
       "\n",
       "    .dataframe thead th {\n",
       "        text-align: right;\n",
       "    }\n",
       "</style>\n",
       "<table border=\"1\" class=\"dataframe\">\n",
       "  <thead>\n",
       "    <tr style=\"text-align: right;\">\n",
       "      <th></th>\n",
       "      <th>BHK</th>\n",
       "      <th>Rent</th>\n",
       "      <th>Size</th>\n",
       "      <th>Bathroom</th>\n",
       "    </tr>\n",
       "  </thead>\n",
       "  <tbody>\n",
       "    <tr>\n",
       "      <th>count</th>\n",
       "      <td>4746.000000</td>\n",
       "      <td>4.746000e+03</td>\n",
       "      <td>4746.000000</td>\n",
       "      <td>4746.000000</td>\n",
       "    </tr>\n",
       "    <tr>\n",
       "      <th>mean</th>\n",
       "      <td>2.083860</td>\n",
       "      <td>3.499345e+04</td>\n",
       "      <td>967.490729</td>\n",
       "      <td>1.965866</td>\n",
       "    </tr>\n",
       "    <tr>\n",
       "      <th>std</th>\n",
       "      <td>0.832256</td>\n",
       "      <td>7.810641e+04</td>\n",
       "      <td>634.202328</td>\n",
       "      <td>0.884532</td>\n",
       "    </tr>\n",
       "    <tr>\n",
       "      <th>min</th>\n",
       "      <td>1.000000</td>\n",
       "      <td>1.200000e+03</td>\n",
       "      <td>10.000000</td>\n",
       "      <td>1.000000</td>\n",
       "    </tr>\n",
       "    <tr>\n",
       "      <th>25%</th>\n",
       "      <td>2.000000</td>\n",
       "      <td>1.000000e+04</td>\n",
       "      <td>550.000000</td>\n",
       "      <td>1.000000</td>\n",
       "    </tr>\n",
       "    <tr>\n",
       "      <th>50%</th>\n",
       "      <td>2.000000</td>\n",
       "      <td>1.600000e+04</td>\n",
       "      <td>850.000000</td>\n",
       "      <td>2.000000</td>\n",
       "    </tr>\n",
       "    <tr>\n",
       "      <th>75%</th>\n",
       "      <td>3.000000</td>\n",
       "      <td>3.300000e+04</td>\n",
       "      <td>1200.000000</td>\n",
       "      <td>2.000000</td>\n",
       "    </tr>\n",
       "    <tr>\n",
       "      <th>max</th>\n",
       "      <td>6.000000</td>\n",
       "      <td>3.500000e+06</td>\n",
       "      <td>8000.000000</td>\n",
       "      <td>10.000000</td>\n",
       "    </tr>\n",
       "  </tbody>\n",
       "</table>\n",
       "</div>"
      ],
      "text/plain": [
       "               BHK          Rent         Size     Bathroom\n",
       "count  4746.000000  4.746000e+03  4746.000000  4746.000000\n",
       "mean      2.083860  3.499345e+04   967.490729     1.965866\n",
       "std       0.832256  7.810641e+04   634.202328     0.884532\n",
       "min       1.000000  1.200000e+03    10.000000     1.000000\n",
       "25%       2.000000  1.000000e+04   550.000000     1.000000\n",
       "50%       2.000000  1.600000e+04   850.000000     2.000000\n",
       "75%       3.000000  3.300000e+04  1200.000000     2.000000\n",
       "max       6.000000  3.500000e+06  8000.000000    10.000000"
      ]
     },
     "execution_count": 8,
     "metadata": {},
     "output_type": "execute_result"
    }
   ],
   "source": [
    "data.describe()"
   ]
  },
  {
   "cell_type": "code",
   "execution_count": 9,
   "id": "48bf53a9",
   "metadata": {
    "execution": {
     "iopub.execute_input": "2023-11-05T02:00:59.438773Z",
     "iopub.status.busy": "2023-11-05T02:00:59.438238Z",
     "iopub.status.idle": "2023-11-05T02:00:59.464707Z",
     "shell.execute_reply": "2023-11-05T02:00:59.464035Z"
    },
    "papermill": {
     "duration": 0.047837,
     "end_time": "2023-11-05T02:00:59.466949",
     "exception": false,
     "start_time": "2023-11-05T02:00:59.419112",
     "status": "completed"
    },
    "tags": []
   },
   "outputs": [
    {
     "data": {
      "text/html": [
       "<div>\n",
       "<style scoped>\n",
       "    .dataframe tbody tr th:only-of-type {\n",
       "        vertical-align: middle;\n",
       "    }\n",
       "\n",
       "    .dataframe tbody tr th {\n",
       "        vertical-align: top;\n",
       "    }\n",
       "\n",
       "    .dataframe thead th {\n",
       "        text-align: right;\n",
       "    }\n",
       "</style>\n",
       "<table border=\"1\" class=\"dataframe\">\n",
       "  <thead>\n",
       "    <tr style=\"text-align: right;\">\n",
       "      <th></th>\n",
       "      <th>Posted On</th>\n",
       "      <th>Floor</th>\n",
       "      <th>Area Type</th>\n",
       "      <th>Area Locality</th>\n",
       "      <th>City</th>\n",
       "      <th>Furnishing Status</th>\n",
       "      <th>Tenant Preferred</th>\n",
       "      <th>Point of Contact</th>\n",
       "    </tr>\n",
       "  </thead>\n",
       "  <tbody>\n",
       "    <tr>\n",
       "      <th>count</th>\n",
       "      <td>4746</td>\n",
       "      <td>4746</td>\n",
       "      <td>4746</td>\n",
       "      <td>4746</td>\n",
       "      <td>4746</td>\n",
       "      <td>4746</td>\n",
       "      <td>4746</td>\n",
       "      <td>4746</td>\n",
       "    </tr>\n",
       "    <tr>\n",
       "      <th>unique</th>\n",
       "      <td>81</td>\n",
       "      <td>480</td>\n",
       "      <td>3</td>\n",
       "      <td>2235</td>\n",
       "      <td>6</td>\n",
       "      <td>3</td>\n",
       "      <td>3</td>\n",
       "      <td>3</td>\n",
       "    </tr>\n",
       "    <tr>\n",
       "      <th>top</th>\n",
       "      <td>2022-07-06</td>\n",
       "      <td>1 out of 2</td>\n",
       "      <td>Super Area</td>\n",
       "      <td>Bandra West</td>\n",
       "      <td>Mumbai</td>\n",
       "      <td>Semi-Furnished</td>\n",
       "      <td>Bachelors/Family</td>\n",
       "      <td>Contact Owner</td>\n",
       "    </tr>\n",
       "    <tr>\n",
       "      <th>freq</th>\n",
       "      <td>311</td>\n",
       "      <td>379</td>\n",
       "      <td>2446</td>\n",
       "      <td>37</td>\n",
       "      <td>972</td>\n",
       "      <td>2251</td>\n",
       "      <td>3444</td>\n",
       "      <td>3216</td>\n",
       "    </tr>\n",
       "  </tbody>\n",
       "</table>\n",
       "</div>"
      ],
      "text/plain": [
       "         Posted On       Floor   Area Type Area Locality    City  \\\n",
       "count         4746        4746        4746          4746    4746   \n",
       "unique          81         480           3          2235       6   \n",
       "top     2022-07-06  1 out of 2  Super Area   Bandra West  Mumbai   \n",
       "freq           311         379        2446            37     972   \n",
       "\n",
       "       Furnishing Status  Tenant Preferred Point of Contact  \n",
       "count               4746              4746             4746  \n",
       "unique                 3                 3                3  \n",
       "top       Semi-Furnished  Bachelors/Family    Contact Owner  \n",
       "freq                2251              3444             3216  "
      ]
     },
     "execution_count": 9,
     "metadata": {},
     "output_type": "execute_result"
    }
   ],
   "source": [
    "data.describe(include = object)"
   ]
  },
  {
   "cell_type": "markdown",
   "id": "0b2204ca",
   "metadata": {
    "papermill": {
     "duration": 0.017861,
     "end_time": "2023-11-05T02:00:59.503084",
     "exception": false,
     "start_time": "2023-11-05T02:00:59.485223",
     "status": "completed"
    },
    "tags": []
   },
   "source": [
    "## Univariate Analysis & Visualizations"
   ]
  },
  {
   "cell_type": "code",
   "execution_count": 10,
   "id": "ec6d273b",
   "metadata": {
    "execution": {
     "iopub.execute_input": "2023-11-05T02:00:59.541089Z",
     "iopub.status.busy": "2023-11-05T02:00:59.540711Z",
     "iopub.status.idle": "2023-11-05T02:00:59.545923Z",
     "shell.execute_reply": "2023-11-05T02:00:59.545187Z"
    },
    "papermill": {
     "duration": 0.026568,
     "end_time": "2023-11-05T02:00:59.547831",
     "exception": false,
     "start_time": "2023-11-05T02:00:59.521263",
     "status": "completed"
    },
    "tags": []
   },
   "outputs": [],
   "source": [
    "def count_plot(column_name, hue = None, rotation = 0):\n",
    "    graph = sns.countplot(x = column_name, data = data, hue = hue, order = data[column_name].value_counts().index)\n",
    "    for container in graph.containers:\n",
    "        graph.bar_label(container)\n",
    "    plt.xticks(rotation = rotation)\n",
    "    plt.show()"
   ]
  },
  {
   "cell_type": "code",
   "execution_count": 11,
   "id": "bfc8cd9e",
   "metadata": {
    "execution": {
     "iopub.execute_input": "2023-11-05T02:00:59.586616Z",
     "iopub.status.busy": "2023-11-05T02:00:59.585990Z",
     "iopub.status.idle": "2023-11-05T02:00:59.591241Z",
     "shell.execute_reply": "2023-11-05T02:00:59.590226Z"
    },
    "papermill": {
     "duration": 0.027335,
     "end_time": "2023-11-05T02:00:59.593532",
     "exception": false,
     "start_time": "2023-11-05T02:00:59.566197",
     "status": "completed"
    },
    "tags": []
   },
   "outputs": [],
   "source": [
    "\n",
    "\n",
    "def pie_plot(column_name):\n",
    "    plt.pie(data[column_name].value_counts(), labels = data[column_name].value_counts().index, shadow = True, autopct = \"%1.1f%%\")\n",
    "    plt.show()"
   ]
  },
  {
   "cell_type": "code",
   "execution_count": 12,
   "id": "8b7d51bb",
   "metadata": {
    "execution": {
     "iopub.execute_input": "2023-11-05T02:00:59.632039Z",
     "iopub.status.busy": "2023-11-05T02:00:59.631324Z",
     "iopub.status.idle": "2023-11-05T02:00:59.636541Z",
     "shell.execute_reply": "2023-11-05T02:00:59.635857Z"
    },
    "papermill": {
     "duration": 0.026761,
     "end_time": "2023-11-05T02:00:59.638552",
     "exception": false,
     "start_time": "2023-11-05T02:00:59.611791",
     "status": "completed"
    },
    "tags": []
   },
   "outputs": [],
   "source": [
    "def box_plot(x_axis = None, y_axis = None):\n",
    "    sns.boxplot(x = x_axis, y = y_axis, data = data)\n",
    "    plt.xlabel(x_axis)\n",
    "    plt.ylabel(\"FRQ\")\n",
    "    plt.show()"
   ]
  },
  {
   "cell_type": "markdown",
   "id": "15c5cd4f",
   "metadata": {
    "papermill": {
     "duration": 0.017685,
     "end_time": "2023-11-05T02:00:59.674124",
     "exception": false,
     "start_time": "2023-11-05T02:00:59.656439",
     "status": "completed"
    },
    "tags": []
   },
   "source": [
    "### Discovering `Rent` column"
   ]
  },
  {
   "cell_type": "code",
   "execution_count": 13,
   "id": "abab1958",
   "metadata": {
    "execution": {
     "iopub.execute_input": "2023-11-05T02:00:59.713690Z",
     "iopub.status.busy": "2023-11-05T02:00:59.712970Z",
     "iopub.status.idle": "2023-11-05T02:00:59.929687Z",
     "shell.execute_reply": "2023-11-05T02:00:59.928624Z"
    },
    "papermill": {
     "duration": 0.23966,
     "end_time": "2023-11-05T02:00:59.931816",
     "exception": false,
     "start_time": "2023-11-05T02:00:59.692156",
     "status": "completed"
    },
    "tags": []
   },
   "outputs": [
    {
     "data": {
      "image/png": "[encoded data removed]",
      "text/plain": [
       "<Figure size 640x480 with 1 Axes>"
      ]
     },
     "metadata": {},
     "output_type": "display_data"
    }
   ],
   "source": [
    "box_plot(y_axis = \"Rent\")"
   ]
  },
  {
   "cell_type": "code",
   "execution_count": 14,
   "id": "0f6754c8",
   "metadata": {
    "execution": {
     "iopub.execute_input": "2023-11-05T02:00:59.970922Z",
     "iopub.status.busy": "2023-11-05T02:00:59.970258Z",
     "iopub.status.idle": "2023-11-05T02:00:59.977772Z",
     "shell.execute_reply": "2023-11-05T02:00:59.976987Z"
    },
    "papermill": {
     "duration": 0.02967,
     "end_time": "2023-11-05T02:00:59.980027",
     "exception": false,
     "start_time": "2023-11-05T02:00:59.950357",
     "status": "completed"
    },
    "tags": []
   },
   "outputs": [],
   "source": [
    "data = data[data['Rent'] <= 2000000]"
   ]
  },
  {
   "cell_type": "code",
   "execution_count": 15,
   "id": "a6f894c5",
   "metadata": {
    "execution": {
     "iopub.execute_input": "2023-11-05T02:01:00.020353Z",
     "iopub.status.busy": "2023-11-05T02:01:00.019586Z",
     "iopub.status.idle": "2023-11-05T02:01:00.206054Z",
     "shell.execute_reply": "2023-11-05T02:01:00.205016Z"
    },
    "papermill": {
     "duration": 0.208894,
     "end_time": "2023-11-05T02:01:00.208201",
     "exception": false,
     "start_time": "2023-11-05T02:00:59.999307",
     "status": "completed"
    },
    "tags": []
   },
   "outputs": [
    {
     "data": {
      "image/png": "[encoded data removed]",
      "text/plain": [
       "<Figure size 640x480 with 1 Axes>"
      ]
     },
     "metadata": {},
     "output_type": "display_data"
    }
   ],
   "source": [
    "box_plot(y_axis = \"Rent\")"
   ]
  },
  {
   "cell_type": "markdown",
   "id": "35ba5c2b",
   "metadata": {
    "papermill": {
     "duration": 0.01844,
     "end_time": "2023-11-05T02:01:00.245480",
     "exception": false,
     "start_time": "2023-11-05T02:01:00.227040",
     "status": "completed"
    },
    "tags": []
   },
   "source": [
    "### Discovering `Posted On` column"
   ]
  },
  {
   "cell_type": "code",
   "execution_count": 16,
   "id": "4933d497",
   "metadata": {
    "execution": {
     "iopub.execute_input": "2023-11-05T02:01:00.284307Z",
     "iopub.status.busy": "2023-11-05T02:01:00.283970Z",
     "iopub.status.idle": "2023-11-05T02:01:00.290933Z",
     "shell.execute_reply": "2023-11-05T02:01:00.289881Z"
    },
    "papermill": {
     "duration": 0.029162,
     "end_time": "2023-11-05T02:01:00.293113",
     "exception": false,
     "start_time": "2023-11-05T02:01:00.263951",
     "status": "completed"
    },
    "tags": []
   },
   "outputs": [
    {
     "data": {
      "text/plain": [
       "array(['2022-05-18', '2022-05-13', '2022-05-16', '2022-07-04',\n",
       "       '2022-05-09', '2022-04-29', '2022-06-21', '2022-06-07',\n",
       "       '2022-06-20', '2022-05-23', '2022-05-14', '2022-05-05',\n",
       "       '2022-06-01', '2022-05-17', '2022-06-09', '2022-07-02',\n",
       "       '2022-06-14', '2022-06-15', '2022-05-28', '2022-05-22',\n",
       "       '2022-06-18', '2022-06-25', '2022-06-22', '2022-05-21',\n",
       "       '2022-06-26', '2022-06-16', '2022-06-29', '2022-05-10',\n",
       "       '2022-05-12', '2022-06-03', '2022-05-31', '2022-06-10',\n",
       "       '2022-06-24', '2022-04-30', '2022-05-27', '2022-06-06',\n",
       "       '2022-05-20', '2022-05-26', '2022-07-03', '2022-04-23',\n",
       "       '2022-06-19', '2022-07-06', '2022-06-04', '2022-05-30',\n",
       "       '2022-06-08', '2022-05-03', '2022-05-07', '2022-06-27',\n",
       "       '2022-05-15', '2022-04-28', '2022-06-28', '2022-06-23',\n",
       "       '2022-06-13', '2022-05-04', '2022-04-25', '2022-05-06',\n",
       "       '2022-06-30', '2022-07-01', '2022-06-17', '2022-06-11',\n",
       "       '2022-05-11', '2022-06-12', '2022-06-05', '2022-05-25',\n",
       "       '2022-05-24', '2022-05-19', '2022-04-24', '2022-04-27',\n",
       "       '2022-05-08', '2022-04-26', '2022-06-02', '2022-05-29',\n",
       "       '2022-07-07', '2022-07-08', '2022-07-09', '2022-07-05',\n",
       "       '2022-05-01', '2022-04-13', '2022-05-02', '2022-07-10',\n",
       "       '2022-07-11'], dtype=object)"
      ]
     },
     "execution_count": 16,
     "metadata": {},
     "output_type": "execute_result"
    }
   ],
   "source": [
    "data[\"Posted On\"].unique()"
   ]
  },
  {
   "cell_type": "code",
   "execution_count": 17,
   "id": "d4a50c85",
   "metadata": {
    "execution": {
     "iopub.execute_input": "2023-11-05T02:01:00.335059Z",
     "iopub.status.busy": "2023-11-05T02:01:00.334683Z",
     "iopub.status.idle": "2023-11-05T02:01:00.347272Z",
     "shell.execute_reply": "2023-11-05T02:01:00.346333Z"
    },
    "papermill": {
     "duration": 0.035922,
     "end_time": "2023-11-05T02:01:00.349522",
     "exception": false,
     "start_time": "2023-11-05T02:01:00.313600",
     "status": "completed"
    },
    "tags": []
   },
   "outputs": [],
   "source": [
    "data['Posted On'] = pd.to_datetime(data['Posted On'])"
   ]
  },
  {
   "cell_type": "code",
   "execution_count": 18,
   "id": "26410b98",
   "metadata": {
    "execution": {
     "iopub.execute_input": "2023-11-05T02:01:00.389555Z",
     "iopub.status.busy": "2023-11-05T02:01:00.388463Z",
     "iopub.status.idle": "2023-11-05T02:01:00.397772Z",
     "shell.execute_reply": "2023-11-05T02:01:00.396732Z"
    },
    "papermill": {
     "duration": 0.031396,
     "end_time": "2023-11-05T02:01:00.400002",
     "exception": false,
     "start_time": "2023-11-05T02:01:00.368606",
     "status": "completed"
    },
    "tags": []
   },
   "outputs": [],
   "source": [
    "data[\"Year\"] = data[\"Posted On\"].dt.year\n",
    "data[\"Month\"] = data['Posted On'].dt.month"
   ]
  },
  {
   "cell_type": "code",
   "execution_count": 19,
   "id": "d3ced474",
   "metadata": {
    "execution": {
     "iopub.execute_input": "2023-11-05T02:01:00.439088Z",
     "iopub.status.busy": "2023-11-05T02:01:00.438707Z",
     "iopub.status.idle": "2023-11-05T02:01:00.444082Z",
     "shell.execute_reply": "2023-11-05T02:01:00.443063Z"
    },
    "papermill": {
     "duration": 0.027347,
     "end_time": "2023-11-05T02:01:00.446138",
     "exception": false,
     "start_time": "2023-11-05T02:01:00.418791",
     "status": "completed"
    },
    "tags": []
   },
   "outputs": [],
   "source": [
    "def find_seasons(month_number):\n",
    "    if month_number in [12,1,2]:\n",
    "        return 1 \n",
    "    elif month_number in [3,4,5]:\n",
    "        return 2 \n",
    "    elif month_number in [6,7,8]:\n",
    "        return 3 \n",
    "    elif month_number in [9,10,11]:\n",
    "        return 4 "
   ]
  },
  {
   "cell_type": "code",
   "execution_count": 20,
   "id": "3d974df9",
   "metadata": {
    "execution": {
     "iopub.execute_input": "2023-11-05T02:01:00.485893Z",
     "iopub.status.busy": "2023-11-05T02:01:00.484868Z",
     "iopub.status.idle": "2023-11-05T02:01:00.493163Z",
     "shell.execute_reply": "2023-11-05T02:01:00.492357Z"
    },
    "papermill": {
     "duration": 0.030381,
     "end_time": "2023-11-05T02:01:00.495284",
     "exception": false,
     "start_time": "2023-11-05T02:01:00.464903",
     "status": "completed"
    },
    "tags": []
   },
   "outputs": [],
   "source": [
    "data['Season'] = data['Month'].apply(find_seasons)"
   ]
  },
  {
   "cell_type": "code",
   "execution_count": 21,
   "id": "4332dfd7",
   "metadata": {
    "execution": {
     "iopub.execute_input": "2023-11-05T02:01:00.535192Z",
     "iopub.status.busy": "2023-11-05T02:01:00.534213Z",
     "iopub.status.idle": "2023-11-05T02:01:00.542802Z",
     "shell.execute_reply": "2023-11-05T02:01:00.541890Z"
    },
    "papermill": {
     "duration": 0.030997,
     "end_time": "2023-11-05T02:01:00.545177",
     "exception": false,
     "start_time": "2023-11-05T02:01:00.514180",
     "status": "completed"
    },
    "tags": []
   },
   "outputs": [],
   "source": [
    "data.drop(columns = \"Posted On\", inplace = True)"
   ]
  },
  {
   "cell_type": "code",
   "execution_count": 22,
   "id": "8f28fb4f",
   "metadata": {
    "execution": {
     "iopub.execute_input": "2023-11-05T02:01:00.584654Z",
     "iopub.status.busy": "2023-11-05T02:01:00.584286Z",
     "iopub.status.idle": "2023-11-05T02:01:00.599911Z",
     "shell.execute_reply": "2023-11-05T02:01:00.598895Z"
    },
    "papermill": {
     "duration": 0.037934,
     "end_time": "2023-11-05T02:01:00.602187",
     "exception": false,
     "start_time": "2023-11-05T02:01:00.564253",
     "status": "completed"
    },
    "tags": []
   },
   "outputs": [
    {
     "data": {
      "text/html": [
       "<div>\n",
       "<style scoped>\n",
       "    .dataframe tbody tr th:only-of-type {\n",
       "        vertical-align: middle;\n",
       "    }\n",
       "\n",
       "    .dataframe tbody tr th {\n",
       "        vertical-align: top;\n",
       "    }\n",
       "\n",
       "    .dataframe thead th {\n",
       "        text-align: right;\n",
       "    }\n",
       "</style>\n",
       "<table border=\"1\" class=\"dataframe\">\n",
       "  <thead>\n",
       "    <tr style=\"text-align: right;\">\n",
       "      <th></th>\n",
       "      <th>BHK</th>\n",
       "      <th>Rent</th>\n",
       "      <th>Size</th>\n",
       "      <th>Floor</th>\n",
       "      <th>Area Type</th>\n",
       "      <th>Area Locality</th>\n",
       "      <th>City</th>\n",
       "      <th>Furnishing Status</th>\n",
       "      <th>Tenant Preferred</th>\n",
       "      <th>Bathroom</th>\n",
       "      <th>Point of Contact</th>\n",
       "      <th>Year</th>\n",
       "      <th>Month</th>\n",
       "      <th>Season</th>\n",
       "    </tr>\n",
       "  </thead>\n",
       "  <tbody>\n",
       "    <tr>\n",
       "      <th>2977</th>\n",
       "      <td>2</td>\n",
       "      <td>10000</td>\n",
       "      <td>60</td>\n",
       "      <td>3 out of 4</td>\n",
       "      <td>Super Area</td>\n",
       "      <td>Bindapur</td>\n",
       "      <td>Delhi</td>\n",
       "      <td>Semi-Furnished</td>\n",
       "      <td>Bachelors/Family</td>\n",
       "      <td>1</td>\n",
       "      <td>Contact Owner</td>\n",
       "      <td>2022</td>\n",
       "      <td>5</td>\n",
       "      <td>2</td>\n",
       "    </tr>\n",
       "    <tr>\n",
       "      <th>4466</th>\n",
       "      <td>2</td>\n",
       "      <td>12000</td>\n",
       "      <td>1100</td>\n",
       "      <td>5 out of 6</td>\n",
       "      <td>Super Area</td>\n",
       "      <td>Serilingampally</td>\n",
       "      <td>Hyderabad</td>\n",
       "      <td>Unfurnished</td>\n",
       "      <td>Bachelors/Family</td>\n",
       "      <td>2</td>\n",
       "      <td>Contact Owner</td>\n",
       "      <td>2022</td>\n",
       "      <td>5</td>\n",
       "      <td>2</td>\n",
       "    </tr>\n",
       "    <tr>\n",
       "      <th>2143</th>\n",
       "      <td>1</td>\n",
       "      <td>7500</td>\n",
       "      <td>500</td>\n",
       "      <td>1 out of 4</td>\n",
       "      <td>Super Area</td>\n",
       "      <td>Mahadevapura</td>\n",
       "      <td>Bangalore</td>\n",
       "      <td>Semi-Furnished</td>\n",
       "      <td>Bachelors/Family</td>\n",
       "      <td>1</td>\n",
       "      <td>Contact Owner</td>\n",
       "      <td>2022</td>\n",
       "      <td>5</td>\n",
       "      <td>2</td>\n",
       "    </tr>\n",
       "  </tbody>\n",
       "</table>\n",
       "</div>"
      ],
      "text/plain": [
       "      BHK   Rent  Size       Floor   Area Type    Area Locality       City  \\\n",
       "2977    2  10000    60  3 out of 4  Super Area         Bindapur      Delhi   \n",
       "4466    2  12000  1100  5 out of 6  Super Area  Serilingampally  Hyderabad   \n",
       "2143    1   7500   500  1 out of 4  Super Area     Mahadevapura  Bangalore   \n",
       "\n",
       "     Furnishing Status  Tenant Preferred  Bathroom Point of Contact  Year  \\\n",
       "2977    Semi-Furnished  Bachelors/Family         1    Contact Owner  2022   \n",
       "4466       Unfurnished  Bachelors/Family         2    Contact Owner  2022   \n",
       "2143    Semi-Furnished  Bachelors/Family         1    Contact Owner  2022   \n",
       "\n",
       "      Month  Season  \n",
       "2977      5       2  \n",
       "4466      5       2  \n",
       "2143      5       2  "
      ]
     },
     "execution_count": 22,
     "metadata": {},
     "output_type": "execute_result"
    }
   ],
   "source": [
    "data.sample(3)"
   ]
  },
  {
   "cell_type": "code",
   "execution_count": 23,
   "id": "daf9af23",
   "metadata": {
    "execution": {
     "iopub.execute_input": "2023-11-05T02:01:00.642831Z",
     "iopub.status.busy": "2023-11-05T02:01:00.642086Z",
     "iopub.status.idle": "2023-11-05T02:01:00.649063Z",
     "shell.execute_reply": "2023-11-05T02:01:00.648173Z"
    },
    "papermill": {
     "duration": 0.029827,
     "end_time": "2023-11-05T02:01:00.651095",
     "exception": false,
     "start_time": "2023-11-05T02:01:00.621268",
     "status": "completed"
    },
    "tags": []
   },
   "outputs": [
    {
     "data": {
      "text/plain": [
       "array([2022], dtype=int32)"
      ]
     },
     "execution_count": 23,
     "metadata": {},
     "output_type": "execute_result"
    }
   ],
   "source": [
    "data['Year'].unique()"
   ]
  },
  {
   "cell_type": "code",
   "execution_count": 24,
   "id": "7895cb77",
   "metadata": {
    "execution": {
     "iopub.execute_input": "2023-11-05T02:01:00.691897Z",
     "iopub.status.busy": "2023-11-05T02:01:00.691170Z",
     "iopub.status.idle": "2023-11-05T02:01:00.698085Z",
     "shell.execute_reply": "2023-11-05T02:01:00.697259Z"
    },
    "papermill": {
     "duration": 0.0298,
     "end_time": "2023-11-05T02:01:00.700165",
     "exception": false,
     "start_time": "2023-11-05T02:01:00.670365",
     "status": "completed"
    },
    "tags": []
   },
   "outputs": [
    {
     "data": {
      "text/plain": [
       "array([5, 7, 4, 6], dtype=int32)"
      ]
     },
     "execution_count": 24,
     "metadata": {},
     "output_type": "execute_result"
    }
   ],
   "source": [
    "data[\"Month\"].unique()"
   ]
  },
  {
   "cell_type": "code",
   "execution_count": 25,
   "id": "a3213f1e",
   "metadata": {
    "execution": {
     "iopub.execute_input": "2023-11-05T02:01:00.741242Z",
     "iopub.status.busy": "2023-11-05T02:01:00.740522Z",
     "iopub.status.idle": "2023-11-05T02:01:00.747348Z",
     "shell.execute_reply": "2023-11-05T02:01:00.746550Z"
    },
    "papermill": {
     "duration": 0.029867,
     "end_time": "2023-11-05T02:01:00.749394",
     "exception": false,
     "start_time": "2023-11-05T02:01:00.719527",
     "status": "completed"
    },
    "tags": []
   },
   "outputs": [
    {
     "data": {
      "text/plain": [
       "array([2, 3])"
      ]
     },
     "execution_count": 25,
     "metadata": {},
     "output_type": "execute_result"
    }
   ],
   "source": [
    "data[\"Season\"].unique()"
   ]
  },
  {
   "cell_type": "code",
   "execution_count": 26,
   "id": "790768e1",
   "metadata": {
    "execution": {
     "iopub.execute_input": "2023-11-05T02:01:00.790077Z",
     "iopub.status.busy": "2023-11-05T02:01:00.789701Z",
     "iopub.status.idle": "2023-11-05T02:01:00.930606Z",
     "shell.execute_reply": "2023-11-05T02:01:00.929540Z"
    },
    "papermill": {
     "duration": 0.165096,
     "end_time": "2023-11-05T02:01:00.933806",
     "exception": false,
     "start_time": "2023-11-05T02:01:00.768710",
     "status": "completed"
    },
    "tags": []
   },
   "outputs": [
    {
     "data": {
      "image/png": "[encoded data removed]",
      "text/plain": [
       "<Figure size 640x480 with 1 Axes>"
      ]
     },
     "metadata": {},
     "output_type": "display_data"
    }
   ],
   "source": [
    "pie_plot(\"Season\")"
   ]
  },
  {
   "cell_type": "markdown",
   "id": "df1c2d59",
   "metadata": {
    "papermill": {
     "duration": 0.033317,
     "end_time": "2023-11-05T02:01:01.001327",
     "exception": false,
     "start_time": "2023-11-05T02:01:00.968010",
     "status": "completed"
    },
    "tags": []
   },
   "source": [
    "### Discovering `BHK` column"
   ]
  },
  {
   "cell_type": "code",
   "execution_count": 27,
   "id": "88d7dba1",
   "metadata": {
    "execution": {
     "iopub.execute_input": "2023-11-05T02:01:01.045174Z",
     "iopub.status.busy": "2023-11-05T02:01:01.044792Z",
     "iopub.status.idle": "2023-11-05T02:01:01.051149Z",
     "shell.execute_reply": "2023-11-05T02:01:01.050427Z"
    },
    "papermill": {
     "duration": 0.029519,
     "end_time": "2023-11-05T02:01:01.052999",
     "exception": false,
     "start_time": "2023-11-05T02:01:01.023480",
     "status": "completed"
    },
    "tags": []
   },
   "outputs": [
    {
     "data": {
      "text/plain": [
       "array([2, 1, 3, 6, 4, 5])"
      ]
     },
     "execution_count": 27,
     "metadata": {},
     "output_type": "execute_result"
    }
   ],
   "source": [
    "data[\"BHK\"].unique()"
   ]
  },
  {
   "cell_type": "code",
   "execution_count": 28,
   "id": "288a4166",
   "metadata": {
    "execution": {
     "iopub.execute_input": "2023-11-05T02:01:01.094985Z",
     "iopub.status.busy": "2023-11-05T02:01:01.094318Z",
     "iopub.status.idle": "2023-11-05T02:01:01.384594Z",
     "shell.execute_reply": "2023-11-05T02:01:01.383897Z"
    },
    "papermill": {
     "duration": 0.313696,
     "end_time": "2023-11-05T02:01:01.386736",
     "exception": false,
     "start_time": "2023-11-05T02:01:01.073040",
     "status": "completed"
    },
    "tags": []
   },
   "outputs": [
    {
     "data": {
      "image/png": "[encoded data removed]",
      "text/plain": [
       "<Figure size 1500x600 with 1 Axes>"
      ]
     },
     "metadata": {},
     "output_type": "display_data"
    }
   ],
   "source": [
    "\n",
    "plt.figure(figsize = (15,6))\n",
    "count_plot(column_name = \"BHK\") "
   ]
  },
  {
   "cell_type": "markdown",
   "id": "e15ac751",
   "metadata": {
    "papermill": {
     "duration": 0.019937,
     "end_time": "2023-11-05T02:01:01.427581",
     "exception": false,
     "start_time": "2023-11-05T02:01:01.407644",
     "status": "completed"
    },
    "tags": []
   },
   "source": [
    "### Discovering `Size` column"
   ]
  },
  {
   "cell_type": "code",
   "execution_count": 29,
   "id": "99226e8b",
   "metadata": {
    "execution": {
     "iopub.execute_input": "2023-11-05T02:01:01.470275Z",
     "iopub.status.busy": "2023-11-05T02:01:01.469581Z",
     "iopub.status.idle": "2023-11-05T02:01:01.659278Z",
     "shell.execute_reply": "2023-11-05T02:01:01.658499Z"
    },
    "papermill": {
     "duration": 0.213279,
     "end_time": "2023-11-05T02:01:01.661232",
     "exception": false,
     "start_time": "2023-11-05T02:01:01.447953",
     "status": "completed"
    },
    "tags": []
   },
   "outputs": [
    {
     "data": {
      "image/png": "[encoded data removed]",
      "text/plain": [
       "<Figure size 640x480 with 1 Axes>"
      ]
     },
     "metadata": {},
     "output_type": "display_data"
    }
   ],
   "source": [
    "box_plot(y_axis = \"Size\")"
   ]
  },
  {
   "cell_type": "markdown",
   "id": "d85d851f",
   "metadata": {
    "papermill": {
     "duration": 0.020972,
     "end_time": "2023-11-05T02:01:01.702954",
     "exception": false,
     "start_time": "2023-11-05T02:01:01.681982",
     "status": "completed"
    },
    "tags": []
   },
   "source": [
    "### Discovering `Floor` column"
   ]
  },
  {
   "cell_type": "code",
   "execution_count": 30,
   "id": "df34551b",
   "metadata": {
    "execution": {
     "iopub.execute_input": "2023-11-05T02:01:01.745950Z",
     "iopub.status.busy": "2023-11-05T02:01:01.745248Z",
     "iopub.status.idle": "2023-11-05T02:01:01.751689Z",
     "shell.execute_reply": "2023-11-05T02:01:01.751007Z"
    },
    "papermill": {
     "duration": 0.03014,
     "end_time": "2023-11-05T02:01:01.753553",
     "exception": false,
     "start_time": "2023-11-05T02:01:01.723413",
     "status": "completed"
    },
    "tags": []
   },
   "outputs": [
    {
     "data": {
      "text/plain": [
       "array(['Ground out of 2', '1 out of 3', '1 out of 2', 'Ground out of 1',\n",
       "       'Ground out of 4', '1 out of 4', '1 out of 1', 'Ground out of 3',\n",
       "       '2 out of 3', '4 out of 5', '2 out of 2', '2 out of 5',\n",
       "       '4 out of 14', '3 out of 3', '5 out of 5', '4 out of 4',\n",
       "       '7 out of 8', '2 out of 4', '3 out of 4', '1 out of 5',\n",
       "       '8 out of 5', 'Ground out of 6', '2 out of 1',\n",
       "       'Upper Basement out of 4', 'Ground out of 5', '3 out of 5',\n",
       "       '11 out of 19', '5 out of 10', '11 out of 14',\n",
       "       'Lower Basement out of 2', '2 out of 7', '4 out of 10',\n",
       "       '7 out of 10', '2 out of 13', '6 out of 7', '4 out of 7',\n",
       "       '14 out of 14', '43 out of 78', '2 out of 8', '13 out of 18',\n",
       "       '5 out of 12', '18 out of 24', '3 out of 7', '17 out of 31',\n",
       "       '11 out of 21', '7 out of 19', '14 out of 23', '9 out of 20',\n",
       "       'Upper Basement out of 9', '19 out of 24'], dtype=object)"
      ]
     },
     "execution_count": 30,
     "metadata": {},
     "output_type": "execute_result"
    }
   ],
   "source": [
    "data['Floor'].unique()[:50]"
   ]
  },
  {
   "cell_type": "code",
   "execution_count": 31,
   "id": "6e42a74e",
   "metadata": {
    "execution": {
     "iopub.execute_input": "2023-11-05T02:01:01.797286Z",
     "iopub.status.busy": "2023-11-05T02:01:01.796634Z",
     "iopub.status.idle": "2023-11-05T02:01:01.801466Z",
     "shell.execute_reply": "2023-11-05T02:01:01.800491Z"
    },
    "papermill": {
     "duration": 0.02908,
     "end_time": "2023-11-05T02:01:01.803593",
     "exception": false,
     "start_time": "2023-11-05T02:01:01.774513",
     "status": "completed"
    },
    "tags": []
   },
   "outputs": [],
   "source": [
    "def finde_level(sentence):\n",
    "    sentence = sentence.split(\" \")\n",
    "    try:\n",
    "        return \" \".join(sentence[:2]) if sentence[1] == \"Basement\" else sentence[0]\n",
    "    except:\n",
    "        return sentence[0]"
   ]
  },
  {
   "cell_type": "code",
   "execution_count": 32,
   "id": "97ec963d",
   "metadata": {
    "execution": {
     "iopub.execute_input": "2023-11-05T02:01:01.847819Z",
     "iopub.status.busy": "2023-11-05T02:01:01.847458Z",
     "iopub.status.idle": "2023-11-05T02:01:01.852270Z",
     "shell.execute_reply": "2023-11-05T02:01:01.851376Z"
    },
    "papermill": {
     "duration": 0.029545,
     "end_time": "2023-11-05T02:01:01.854138",
     "exception": false,
     "start_time": "2023-11-05T02:01:01.824593",
     "status": "completed"
    },
    "tags": []
   },
   "outputs": [],
   "source": [
    "def finde_levels_number(sentence):\n",
    "    sentence = sentence.split(\" \")\n",
    "    return sentence[-1]  if len(sentence) > 1 else \"1\""
   ]
  },
  {
   "cell_type": "code",
   "execution_count": 33,
   "id": "3949f87c",
   "metadata": {
    "execution": {
     "iopub.execute_input": "2023-11-05T02:01:01.897786Z",
     "iopub.status.busy": "2023-11-05T02:01:01.897161Z",
     "iopub.status.idle": "2023-11-05T02:01:01.904671Z",
     "shell.execute_reply": "2023-11-05T02:01:01.903778Z"
    },
    "papermill": {
     "duration": 0.031652,
     "end_time": "2023-11-05T02:01:01.906779",
     "exception": false,
     "start_time": "2023-11-05T02:01:01.875127",
     "status": "completed"
    },
    "tags": []
   },
   "outputs": [],
   "source": [
    "data[\"Level\"] = data[\"Floor\"].apply(finde_level)"
   ]
  },
  {
   "cell_type": "code",
   "execution_count": 34,
   "id": "0ebef550",
   "metadata": {
    "execution": {
     "iopub.execute_input": "2023-11-05T02:01:01.950362Z",
     "iopub.status.busy": "2023-11-05T02:01:01.949724Z",
     "iopub.status.idle": "2023-11-05T02:01:01.957410Z",
     "shell.execute_reply": "2023-11-05T02:01:01.956360Z"
    },
    "papermill": {
     "duration": 0.031904,
     "end_time": "2023-11-05T02:01:01.959542",
     "exception": false,
     "start_time": "2023-11-05T02:01:01.927638",
     "status": "completed"
    },
    "tags": []
   },
   "outputs": [],
   "source": [
    "data[\"Floors numbers\"] = data['Floor'].apply(finde_levels_number)"
   ]
  },
  {
   "cell_type": "code",
   "execution_count": 35,
   "id": "7953588f",
   "metadata": {
    "execution": {
     "iopub.execute_input": "2023-11-05T02:01:02.002948Z",
     "iopub.status.busy": "2023-11-05T02:01:02.002457Z",
     "iopub.status.idle": "2023-11-05T02:01:02.010581Z",
     "shell.execute_reply": "2023-11-05T02:01:02.009656Z"
    },
    "papermill": {
     "duration": 0.032535,
     "end_time": "2023-11-05T02:01:02.012853",
     "exception": false,
     "start_time": "2023-11-05T02:01:01.980318",
     "status": "completed"
    },
    "tags": []
   },
   "outputs": [],
   "source": [
    "data.drop(columns = 'Floor', inplace = True)"
   ]
  },
  {
   "cell_type": "code",
   "execution_count": 36,
   "id": "67f41486",
   "metadata": {
    "execution": {
     "iopub.execute_input": "2023-11-05T02:01:02.059374Z",
     "iopub.status.busy": "2023-11-05T02:01:02.058955Z",
     "iopub.status.idle": "2023-11-05T02:01:02.074188Z",
     "shell.execute_reply": "2023-11-05T02:01:02.073322Z"
    },
    "papermill": {
     "duration": 0.041749,
     "end_time": "2023-11-05T02:01:02.076654",
     "exception": false,
     "start_time": "2023-11-05T02:01:02.034905",
     "status": "completed"
    },
    "tags": []
   },
   "outputs": [
    {
     "data": {
      "text/html": [
       "<div>\n",
       "<style scoped>\n",
       "    .dataframe tbody tr th:only-of-type {\n",
       "        vertical-align: middle;\n",
       "    }\n",
       "\n",
       "    .dataframe tbody tr th {\n",
       "        vertical-align: top;\n",
       "    }\n",
       "\n",
       "    .dataframe thead th {\n",
       "        text-align: right;\n",
       "    }\n",
       "</style>\n",
       "<table border=\"1\" class=\"dataframe\">\n",
       "  <thead>\n",
       "    <tr style=\"text-align: right;\">\n",
       "      <th></th>\n",
       "      <th>BHK</th>\n",
       "      <th>Rent</th>\n",
       "      <th>Size</th>\n",
       "      <th>Area Type</th>\n",
       "      <th>Area Locality</th>\n",
       "      <th>City</th>\n",
       "      <th>Furnishing Status</th>\n",
       "      <th>Tenant Preferred</th>\n",
       "      <th>Bathroom</th>\n",
       "      <th>Point of Contact</th>\n",
       "      <th>Year</th>\n",
       "      <th>Month</th>\n",
       "      <th>Season</th>\n",
       "      <th>Level</th>\n",
       "      <th>Floors numbers</th>\n",
       "    </tr>\n",
       "  </thead>\n",
       "  <tbody>\n",
       "    <tr>\n",
       "      <th>3349</th>\n",
       "      <td>3</td>\n",
       "      <td>33000</td>\n",
       "      <td>1600</td>\n",
       "      <td>Carpet Area</td>\n",
       "      <td>Iyyappanthangal</td>\n",
       "      <td>Chennai</td>\n",
       "      <td>Semi-Furnished</td>\n",
       "      <td>Bachelors/Family</td>\n",
       "      <td>3</td>\n",
       "      <td>Contact Agent</td>\n",
       "      <td>2022</td>\n",
       "      <td>7</td>\n",
       "      <td>3</td>\n",
       "      <td>15</td>\n",
       "      <td>16</td>\n",
       "    </tr>\n",
       "    <tr>\n",
       "      <th>4466</th>\n",
       "      <td>2</td>\n",
       "      <td>12000</td>\n",
       "      <td>1100</td>\n",
       "      <td>Super Area</td>\n",
       "      <td>Serilingampally</td>\n",
       "      <td>Hyderabad</td>\n",
       "      <td>Unfurnished</td>\n",
       "      <td>Bachelors/Family</td>\n",
       "      <td>2</td>\n",
       "      <td>Contact Owner</td>\n",
       "      <td>2022</td>\n",
       "      <td>5</td>\n",
       "      <td>2</td>\n",
       "      <td>5</td>\n",
       "      <td>6</td>\n",
       "    </tr>\n",
       "    <tr>\n",
       "      <th>1016</th>\n",
       "      <td>2</td>\n",
       "      <td>44000</td>\n",
       "      <td>710</td>\n",
       "      <td>Carpet Area</td>\n",
       "      <td>Ajmera Bhakti Park, Bhakti Park</td>\n",
       "      <td>Mumbai</td>\n",
       "      <td>Semi-Furnished</td>\n",
       "      <td>Bachelors/Family</td>\n",
       "      <td>2</td>\n",
       "      <td>Contact Agent</td>\n",
       "      <td>2022</td>\n",
       "      <td>7</td>\n",
       "      <td>3</td>\n",
       "      <td>13</td>\n",
       "      <td>18</td>\n",
       "    </tr>\n",
       "  </tbody>\n",
       "</table>\n",
       "</div>"
      ],
      "text/plain": [
       "      BHK   Rent  Size    Area Type                    Area Locality  \\\n",
       "3349    3  33000  1600  Carpet Area                  Iyyappanthangal   \n",
       "4466    2  12000  1100   Super Area                  Serilingampally   \n",
       "1016    2  44000   710  Carpet Area  Ajmera Bhakti Park, Bhakti Park   \n",
       "\n",
       "           City Furnishing Status  Tenant Preferred  Bathroom  \\\n",
       "3349    Chennai    Semi-Furnished  Bachelors/Family         3   \n",
       "4466  Hyderabad       Unfurnished  Bachelors/Family         2   \n",
       "1016     Mumbai    Semi-Furnished  Bachelors/Family         2   \n",
       "\n",
       "     Point of Contact  Year  Month  Season Level Floors numbers  \n",
       "3349    Contact Agent  2022      7       3    15             16  \n",
       "4466    Contact Owner  2022      5       2     5              6  \n",
       "1016    Contact Agent  2022      7       3    13             18  "
      ]
     },
     "execution_count": 36,
     "metadata": {},
     "output_type": "execute_result"
    }
   ],
   "source": [
    "data.sample(3)"
   ]
  },
  {
   "cell_type": "code",
   "execution_count": 37,
   "id": "538ae0d6",
   "metadata": {
    "execution": {
     "iopub.execute_input": "2023-11-05T02:01:02.121017Z",
     "iopub.status.busy": "2023-11-05T02:01:02.120630Z",
     "iopub.status.idle": "2023-11-05T02:01:02.127873Z",
     "shell.execute_reply": "2023-11-05T02:01:02.126817Z"
    },
    "papermill": {
     "duration": 0.031964,
     "end_time": "2023-11-05T02:01:02.130136",
     "exception": false,
     "start_time": "2023-11-05T02:01:02.098172",
     "status": "completed"
    },
    "tags": []
   },
   "outputs": [
    {
     "data": {
      "text/plain": [
       "array(['Ground', '1', '2', '4', '3', '5', '7', '8', 'Upper Basement',\n",
       "       '11', 'Lower Basement', '6', '14', '43', '13', '18', '17', '9',\n",
       "       '19', '60', '34', '12', '26', '25', '53', '16', '10', '39', '32',\n",
       "       '47', '28', '20', '15', '65', '40', '37', '22', '21', '30', '35',\n",
       "       '33', '44', '41', '46', '27', '45', '48', '50', '24', '23', '29',\n",
       "       '49', '36', '76'], dtype=object)"
      ]
     },
     "execution_count": 37,
     "metadata": {},
     "output_type": "execute_result"
    }
   ],
   "source": [
    "data['Level'].unique()"
   ]
  },
  {
   "cell_type": "code",
   "execution_count": 38,
   "id": "7fd851e3",
   "metadata": {
    "execution": {
     "iopub.execute_input": "2023-11-05T02:01:02.174052Z",
     "iopub.status.busy": "2023-11-05T02:01:02.173679Z",
     "iopub.status.idle": "2023-11-05T02:01:02.180334Z",
     "shell.execute_reply": "2023-11-05T02:01:02.179505Z"
    },
    "papermill": {
     "duration": 0.031645,
     "end_time": "2023-11-05T02:01:02.182873",
     "exception": false,
     "start_time": "2023-11-05T02:01:02.151228",
     "status": "completed"
    },
    "tags": []
   },
   "outputs": [],
   "source": [
    "data['Level'].replace({\"Ground\": 0, \"Lower Basement\": 0, \"Upper Basement\": 0},inplace = True)"
   ]
  },
  {
   "cell_type": "code",
   "execution_count": 39,
   "id": "30f780b1",
   "metadata": {
    "execution": {
     "iopub.execute_input": "2023-11-05T02:01:02.227261Z",
     "iopub.status.busy": "2023-11-05T02:01:02.226906Z",
     "iopub.status.idle": "2023-11-05T02:01:03.212922Z",
     "shell.execute_reply": "2023-11-05T02:01:03.211974Z"
    },
    "papermill": {
     "duration": 1.0108,
     "end_time": "2023-11-05T02:01:03.215337",
     "exception": false,
     "start_time": "2023-11-05T02:01:02.204537",
     "status": "completed"
    },
    "tags": []
   },
   "outputs": [
    {
     "data": {
      "image/png": "[encoded data removed]",
      "text/plain": [
       "<Figure size 1500x600 with 1 Axes>"
      ]
     },
     "metadata": {},
     "output_type": "display_data"
    }
   ],
   "source": [
    "plt.figure(figsize = (15,6))\n",
    "count_plot(column_name = \"Level\", rotation = 90)"
   ]
  },
  {
   "cell_type": "markdown",
   "id": "7696937c",
   "metadata": {
    "papermill": {
     "duration": 0.022059,
     "end_time": "2023-11-05T02:01:03.259301",
     "exception": false,
     "start_time": "2023-11-05T02:01:03.237242",
     "status": "completed"
    },
    "tags": []
   },
   "source": [
    "### Discovering `Area Type` column"
   ]
  },
  {
   "cell_type": "code",
   "execution_count": 40,
   "id": "7a25e6f5",
   "metadata": {
    "execution": {
     "iopub.execute_input": "2023-11-05T02:01:03.304621Z",
     "iopub.status.busy": "2023-11-05T02:01:03.304278Z",
     "iopub.status.idle": "2023-11-05T02:01:03.311341Z",
     "shell.execute_reply": "2023-11-05T02:01:03.310298Z"
    },
    "papermill": {
     "duration": 0.032487,
     "end_time": "2023-11-05T02:01:03.313536",
     "exception": false,
     "start_time": "2023-11-05T02:01:03.281049",
     "status": "completed"
    },
    "tags": []
   },
   "outputs": [
    {
     "data": {
      "text/plain": [
       "array(['Super Area', 'Carpet Area', 'Built Area'], dtype=object)"
      ]
     },
     "execution_count": 40,
     "metadata": {},
     "output_type": "execute_result"
    }
   ],
   "source": [
    "data[\"Area Type\"].unique()"
   ]
  },
  {
   "cell_type": "code",
   "execution_count": 41,
   "id": "2a319cda",
   "metadata": {
    "execution": {
     "iopub.execute_input": "2023-11-05T02:01:03.359671Z",
     "iopub.status.busy": "2023-11-05T02:01:03.358712Z",
     "iopub.status.idle": "2023-11-05T02:01:03.513897Z",
     "shell.execute_reply": "2023-11-05T02:01:03.512588Z"
    },
    "papermill": {
     "duration": 0.181479,
     "end_time": "2023-11-05T02:01:03.517286",
     "exception": false,
     "start_time": "2023-11-05T02:01:03.335807",
     "status": "completed"
    },
    "tags": []
   },
   "outputs": [
    {
     "data": {
      "image/png": "[encoded data removed]",
      "text/plain": [
       "<Figure size 640x480 with 1 Axes>"
      ]
     },
     "metadata": {},
     "output_type": "display_data"
    }
   ],
   "source": [
    "pie_plot(\"Area Type\")"
   ]
  },
  {
   "cell_type": "markdown",
   "id": "e914952e",
   "metadata": {
    "papermill": {
     "duration": 0.03283,
     "end_time": "2023-11-05T02:01:03.587301",
     "exception": false,
     "start_time": "2023-11-05T02:01:03.554471",
     "status": "completed"
    },
    "tags": []
   },
   "source": [
    "### Discovering  `City` column"
   ]
  },
  {
   "cell_type": "code",
   "execution_count": 42,
   "id": "dade9032",
   "metadata": {
    "execution": {
     "iopub.execute_input": "2023-11-05T02:01:03.633469Z",
     "iopub.status.busy": "2023-11-05T02:01:03.632735Z",
     "iopub.status.idle": "2023-11-05T02:01:03.638875Z",
     "shell.execute_reply": "2023-11-05T02:01:03.638168Z"
    },
    "papermill": {
     "duration": 0.03136,
     "end_time": "2023-11-05T02:01:03.640672",
     "exception": false,
     "start_time": "2023-11-05T02:01:03.609312",
     "status": "completed"
    },
    "tags": []
   },
   "outputs": [
    {
     "data": {
      "text/plain": [
       "array(['Kolkata', 'Mumbai', 'Bangalore', 'Delhi', 'Chennai', 'Hyderabad'],\n",
       "      dtype=object)"
      ]
     },
     "execution_count": 42,
     "metadata": {},
     "output_type": "execute_result"
    }
   ],
   "source": [
    "data['City'].unique()"
   ]
  },
  {
   "cell_type": "code",
   "execution_count": 43,
   "id": "c26c7b6e",
   "metadata": {
    "execution": {
     "iopub.execute_input": "2023-11-05T02:01:03.686952Z",
     "iopub.status.busy": "2023-11-05T02:01:03.686280Z",
     "iopub.status.idle": "2023-11-05T02:01:03.990602Z",
     "shell.execute_reply": "2023-11-05T02:01:03.989140Z"
    },
    "papermill": {
     "duration": 0.330259,
     "end_time": "2023-11-05T02:01:03.993083",
     "exception": false,
     "start_time": "2023-11-05T02:01:03.662824",
     "status": "completed"
    },
    "tags": []
   },
   "outputs": [
    {
     "data": {
      "image/png": "[encoded data removed]",
      "text/plain": [
       "<Figure size 1500x600 with 1 Axes>"
      ]
     },
     "metadata": {},
     "output_type": "display_data"
    }
   ],
   "source": [
    "plt.figure(figsize = (15,6))\n",
    "count_plot(column_name = \"City\")"
   ]
  },
  {
   "cell_type": "markdown",
   "id": "707fee3f",
   "metadata": {
    "papermill": {
     "duration": 0.027378,
     "end_time": "2023-11-05T02:01:04.049646",
     "exception": false,
     "start_time": "2023-11-05T02:01:04.022268",
     "status": "completed"
    },
    "tags": []
   },
   "source": [
    "### Discovering `Furnishing Status` column"
   ]
  },
  {
   "cell_type": "code",
   "execution_count": 44,
   "id": "12b5753d",
   "metadata": {
    "execution": {
     "iopub.execute_input": "2023-11-05T02:01:04.116132Z",
     "iopub.status.busy": "2023-11-05T02:01:04.114232Z",
     "iopub.status.idle": "2023-11-05T02:01:04.124858Z",
     "shell.execute_reply": "2023-11-05T02:01:04.123492Z"
    },
    "papermill": {
     "duration": 0.048708,
     "end_time": "2023-11-05T02:01:04.127368",
     "exception": false,
     "start_time": "2023-11-05T02:01:04.078660",
     "status": "completed"
    },
    "tags": []
   },
   "outputs": [
    {
     "data": {
      "text/plain": [
       "array(['Unfurnished', 'Semi-Furnished', 'Furnished'], dtype=object)"
      ]
     },
     "execution_count": 44,
     "metadata": {},
     "output_type": "execute_result"
    }
   ],
   "source": [
    "data[\"Furnishing Status\"].unique()"
   ]
  },
  {
   "cell_type": "code",
   "execution_count": 45,
   "id": "227c08ec",
   "metadata": {
    "execution": {
     "iopub.execute_input": "2023-11-05T02:01:04.176482Z",
     "iopub.status.busy": "2023-11-05T02:01:04.175767Z",
     "iopub.status.idle": "2023-11-05T02:01:04.318249Z",
     "shell.execute_reply": "2023-11-05T02:01:04.317379Z"
    },
    "papermill": {
     "duration": 0.170218,
     "end_time": "2023-11-05T02:01:04.320504",
     "exception": false,
     "start_time": "2023-11-05T02:01:04.150286",
     "status": "completed"
    },
    "tags": []
   },
   "outputs": [
    {
     "data": {
      "image/png": "[encoded data removed]",
      "text/plain": [
       "<Figure size 640x480 with 1 Axes>"
      ]
     },
     "metadata": {},
     "output_type": "display_data"
    }
   ],
   "source": [
    "pie_plot('Furnishing Status')"
   ]
  },
  {
   "cell_type": "markdown",
   "id": "b13cc705",
   "metadata": {
    "papermill": {
     "duration": 0.034986,
     "end_time": "2023-11-05T02:01:04.393561",
     "exception": false,
     "start_time": "2023-11-05T02:01:04.358575",
     "status": "completed"
    },
    "tags": []
   },
   "source": [
    "### Discovering `Tenant Preferred` column"
   ]
  },
  {
   "cell_type": "code",
   "execution_count": 46,
   "id": "a85a47c2",
   "metadata": {
    "execution": {
     "iopub.execute_input": "2023-11-05T02:01:04.449096Z",
     "iopub.status.busy": "2023-11-05T02:01:04.448660Z",
     "iopub.status.idle": "2023-11-05T02:01:04.455601Z",
     "shell.execute_reply": "2023-11-05T02:01:04.454933Z"
    },
    "papermill": {
     "duration": 0.036322,
     "end_time": "2023-11-05T02:01:04.457395",
     "exception": false,
     "start_time": "2023-11-05T02:01:04.421073",
     "status": "completed"
    },
    "tags": []
   },
   "outputs": [
    {
     "data": {
      "text/plain": [
       "array(['Bachelors/Family', 'Bachelors', 'Family'], dtype=object)"
      ]
     },
     "execution_count": 46,
     "metadata": {},
     "output_type": "execute_result"
    }
   ],
   "source": [
    "data['Tenant Preferred'].unique()"
   ]
  },
  {
   "cell_type": "code",
   "execution_count": 47,
   "id": "e5354374",
   "metadata": {
    "execution": {
     "iopub.execute_input": "2023-11-05T02:01:04.508527Z",
     "iopub.status.busy": "2023-11-05T02:01:04.507774Z",
     "iopub.status.idle": "2023-11-05T02:01:04.773433Z",
     "shell.execute_reply": "2023-11-05T02:01:04.772384Z"
    },
    "papermill": {
     "duration": 0.294573,
     "end_time": "2023-11-05T02:01:04.775488",
     "exception": false,
     "start_time": "2023-11-05T02:01:04.480915",
     "status": "completed"
    },
    "tags": []
   },
   "outputs": [
    {
     "data": {
      "image/png": "[encoded data removed]",
      "text/plain": [
       "<Figure size 1500x600 with 1 Axes>"
      ]
     },
     "metadata": {},
     "output_type": "display_data"
    }
   ],
   "source": [
    "plt.figure(figsize = (15, 6))\n",
    "count_plot(column_name = \"Tenant Preferred\")"
   ]
  },
  {
   "cell_type": "markdown",
   "id": "b07d063c",
   "metadata": {
    "papermill": {
     "duration": 0.023778,
     "end_time": "2023-11-05T02:01:04.823642",
     "exception": false,
     "start_time": "2023-11-05T02:01:04.799864",
     "status": "completed"
    },
    "tags": []
   },
   "source": [
    "### Discovering `Bathroom ` column"
   ]
  },
  {
   "cell_type": "code",
   "execution_count": 48,
   "id": "f9d42c69",
   "metadata": {
    "execution": {
     "iopub.execute_input": "2023-11-05T02:01:04.878475Z",
     "iopub.status.busy": "2023-11-05T02:01:04.878101Z",
     "iopub.status.idle": "2023-11-05T02:01:04.885825Z",
     "shell.execute_reply": "2023-11-05T02:01:04.885077Z"
    },
    "papermill": {
     "duration": 0.040615,
     "end_time": "2023-11-05T02:01:04.888259",
     "exception": false,
     "start_time": "2023-11-05T02:01:04.847644",
     "status": "completed"
    },
    "tags": []
   },
   "outputs": [
    {
     "data": {
      "text/plain": [
       "array([ 2,  1,  3,  5,  4,  6,  7, 10])"
      ]
     },
     "execution_count": 48,
     "metadata": {},
     "output_type": "execute_result"
    }
   ],
   "source": [
    "data[\"Bathroom\"].unique()"
   ]
  },
  {
   "cell_type": "code",
   "execution_count": 49,
   "id": "6a3df13e",
   "metadata": {
    "execution": {
     "iopub.execute_input": "2023-11-05T02:01:04.953465Z",
     "iopub.status.busy": "2023-11-05T02:01:04.952475Z",
     "iopub.status.idle": "2023-11-05T02:01:05.268176Z",
     "shell.execute_reply": "2023-11-05T02:01:05.267152Z"
    },
    "papermill": {
     "duration": 0.345843,
     "end_time": "2023-11-05T02:01:05.270344",
     "exception": false,
     "start_time": "2023-11-05T02:01:04.924501",
     "status": "completed"
    },
    "tags": []
   },
   "outputs": [
    {
     "data": {
      "image/png": "[encoded data removed]",
      "text/plain": [
       "<Figure size 1500x600 with 1 Axes>"
      ]
     },
     "metadata": {},
     "output_type": "display_data"
    }
   ],
   "source": [
    "plt.figure(figsize = (15,6))\n",
    "count_plot(column_name = \"Bathroom\")"
   ]
  },
  {
   "cell_type": "markdown",
   "id": "aedf94c8",
   "metadata": {
    "papermill": {
     "duration": 0.023515,
     "end_time": "2023-11-05T02:01:05.318048",
     "exception": false,
     "start_time": "2023-11-05T02:01:05.294533",
     "status": "completed"
    },
    "tags": []
   },
   "source": [
    "### Discovering `Point of Contact` column"
   ]
  },
  {
   "cell_type": "code",
   "execution_count": 50,
   "id": "a168988b",
   "metadata": {
    "execution": {
     "iopub.execute_input": "2023-11-05T02:01:05.368229Z",
     "iopub.status.busy": "2023-11-05T02:01:05.367438Z",
     "iopub.status.idle": "2023-11-05T02:01:05.373407Z",
     "shell.execute_reply": "2023-11-05T02:01:05.372746Z"
    },
    "papermill": {
     "duration": 0.032909,
     "end_time": "2023-11-05T02:01:05.375252",
     "exception": false,
     "start_time": "2023-11-05T02:01:05.342343",
     "status": "completed"
    },
    "tags": []
   },
   "outputs": [
    {
     "data": {
      "text/plain": [
       "array(['Contact Owner', 'Contact Agent', 'Contact Builder'], dtype=object)"
      ]
     },
     "execution_count": 50,
     "metadata": {},
     "output_type": "execute_result"
    }
   ],
   "source": [
    "data[\"Point of Contact\"].unique()"
   ]
  },
  {
   "cell_type": "code",
   "execution_count": 51,
   "id": "684fe88a",
   "metadata": {
    "execution": {
     "iopub.execute_input": "2023-11-05T02:01:05.425368Z",
     "iopub.status.busy": "2023-11-05T02:01:05.424827Z",
     "iopub.status.idle": "2023-11-05T02:01:05.580827Z",
     "shell.execute_reply": "2023-11-05T02:01:05.579674Z"
    },
    "papermill": {
     "duration": 0.184634,
     "end_time": "2023-11-05T02:01:05.584125",
     "exception": false,
     "start_time": "2023-11-05T02:01:05.399491",
     "status": "completed"
    },
    "tags": []
   },
   "outputs": [
    {
     "data": {
      "image/png": "[encoded data removed]",
      "text/plain": [
       "<Figure size 640x480 with 1 Axes>"
      ]
     },
     "metadata": {},
     "output_type": "display_data"
    }
   ],
   "source": [
    "pie_plot(\"Point of Contact\")"
   ]
  },
  {
   "cell_type": "markdown",
   "id": "9d0e4f3c",
   "metadata": {
    "papermill": {
     "duration": 0.033327,
     "end_time": "2023-11-05T02:01:05.659284",
     "exception": false,
     "start_time": "2023-11-05T02:01:05.625957",
     "status": "completed"
    },
    "tags": []
   },
   "source": [
    "## Bivariate Analysis & Visualizations"
   ]
  },
  {
   "cell_type": "code",
   "execution_count": 52,
   "id": "73e3104a",
   "metadata": {
    "execution": {
     "iopub.execute_input": "2023-11-05T02:01:05.711029Z",
     "iopub.status.busy": "2023-11-05T02:01:05.710474Z",
     "iopub.status.idle": "2023-11-05T02:01:06.036627Z",
     "shell.execute_reply": "2023-11-05T02:01:06.035892Z"
    },
    "papermill": {
     "duration": 0.354559,
     "end_time": "2023-11-05T02:01:06.038776",
     "exception": false,
     "start_time": "2023-11-05T02:01:05.684217",
     "status": "completed"
    },
    "tags": []
   },
   "outputs": [
    {
     "data": {
      "image/png": "[encoded data removed]",
      "text/plain": [
       "<Figure size 1500x600 with 1 Axes>"
      ]
     },
     "metadata": {},
     "output_type": "display_data"
    }
   ],
   "source": [
    "plt.figure(figsize = (15,6))\n",
    "box_plot(x_axis = \"BHK\", y_axis = \"Rent\")"
   ]
  },
  {
   "cell_type": "code",
   "execution_count": 53,
   "id": "ea01b240",
   "metadata": {
    "execution": {
     "iopub.execute_input": "2023-11-05T02:01:06.091047Z",
     "iopub.status.busy": "2023-11-05T02:01:06.090660Z",
     "iopub.status.idle": "2023-11-05T02:01:06.542208Z",
     "shell.execute_reply": "2023-11-05T02:01:06.541168Z"
    },
    "papermill": {
     "duration": 0.480092,
     "end_time": "2023-11-05T02:01:06.544519",
     "exception": false,
     "start_time": "2023-11-05T02:01:06.064427",
     "status": "completed"
    },
    "tags": []
   },
   "outputs": [
    {
     "data": {
      "image/png": "[encoded data removed]",
      "text/plain": [
       "<Figure size 1500x600 with 1 Axes>"
      ]
     },
     "metadata": {},
     "output_type": "display_data"
    }
   ],
   "source": [
    "plt.figure(figsize = (15,6))\n",
    "box_plot(x_axis = \"Bathroom\", y_axis = \"Rent\")"
   ]
  },
  {
   "cell_type": "code",
   "execution_count": 54,
   "id": "2e84e1f8",
   "metadata": {
    "execution": {
     "iopub.execute_input": "2023-11-05T02:01:06.597335Z",
     "iopub.status.busy": "2023-11-05T02:01:06.596993Z",
     "iopub.status.idle": "2023-11-05T02:01:06.928739Z",
     "shell.execute_reply": "2023-11-05T02:01:06.927999Z"
    },
    "papermill": {
     "duration": 0.360546,
     "end_time": "2023-11-05T02:01:06.930626",
     "exception": false,
     "start_time": "2023-11-05T02:01:06.570080",
     "status": "completed"
    },
    "tags": []
   },
   "outputs": [
    {
     "data": {
      "image/png": "[encoded data removed]",
      "text/plain": [
       "<Figure size 1500x600 with 1 Axes>"
      ]
     },
     "metadata": {},
     "output_type": "display_data"
    }
   ],
   "source": [
    "plt.figure(figsize = (15,6))\n",
    "box_plot(x_axis = \"City\", y_axis = \"Rent\")"
   ]
  },
  {
   "cell_type": "code",
   "execution_count": 55,
   "id": "f14cac56",
   "metadata": {
    "execution": {
     "iopub.execute_input": "2023-11-05T02:01:06.984414Z",
     "iopub.status.busy": "2023-11-05T02:01:06.983772Z",
     "iopub.status.idle": "2023-11-05T02:01:07.256887Z",
     "shell.execute_reply": "2023-11-05T02:01:07.255890Z"
    },
    "papermill": {
     "duration": 0.302525,
     "end_time": "2023-11-05T02:01:07.259104",
     "exception": false,
     "start_time": "2023-11-05T02:01:06.956579",
     "status": "completed"
    },
    "tags": []
   },
   "outputs": [
    {
     "data": {
      "image/png": "[encoded data removed]",
      "text/plain": [
       "<Figure size 1500x600 with 1 Axes>"
      ]
     },
     "metadata": {},
     "output_type": "display_data"
    }
   ],
   "source": [
    "plt.figure(figsize = (15,6))\n",
    "box_plot(x_axis = \"Furnishing Status\", y_axis = \"Rent\")"
   ]
  },
  {
   "cell_type": "code",
   "execution_count": 56,
   "id": "0c05db66",
   "metadata": {
    "execution": {
     "iopub.execute_input": "2023-11-05T02:01:07.317135Z",
     "iopub.status.busy": "2023-11-05T02:01:07.316742Z",
     "iopub.status.idle": "2023-11-05T02:01:07.593175Z",
     "shell.execute_reply": "2023-11-05T02:01:07.592169Z"
    },
    "papermill": {
     "duration": 0.309261,
     "end_time": "2023-11-05T02:01:07.595327",
     "exception": false,
     "start_time": "2023-11-05T02:01:07.286066",
     "status": "completed"
    },
    "tags": []
   },
   "outputs": [
    {
     "data": {
      "image/png": "[encoded data removed]",
      "text/plain": [
       "<Figure size 1500x600 with 1 Axes>"
      ]
     },
     "metadata": {},
     "output_type": "display_data"
    }
   ],
   "source": [
    "plt.figure(figsize = (15,6))\n",
    "box_plot(x_axis = \"Tenant Preferred\", y_axis = \"Rent\")"
   ]
  },
  {
   "cell_type": "code",
   "execution_count": 57,
   "id": "58b24984",
   "metadata": {
    "execution": {
     "iopub.execute_input": "2023-11-05T02:01:07.651536Z",
     "iopub.status.busy": "2023-11-05T02:01:07.650666Z",
     "iopub.status.idle": "2023-11-05T02:01:07.657286Z",
     "shell.execute_reply": "2023-11-05T02:01:07.656421Z"
    },
    "papermill": {
     "duration": 0.036674,
     "end_time": "2023-11-05T02:01:07.659082",
     "exception": false,
     "start_time": "2023-11-05T02:01:07.622408",
     "status": "completed"
    },
    "tags": []
   },
   "outputs": [
    {
     "data": {
      "text/plain": [
       "Index(['BHK', 'Rent', 'Size', 'Area Type', 'Area Locality', 'City',\n",
       "       'Furnishing Status', 'Tenant Preferred', 'Bathroom', 'Point of Contact',\n",
       "       'Year', 'Month', 'Season', 'Level', 'Floors numbers'],\n",
       "      dtype='object')"
      ]
     },
     "execution_count": 57,
     "metadata": {},
     "output_type": "execute_result"
    }
   ],
   "source": [
    "data.columns"
   ]
  },
  {
   "cell_type": "code",
   "execution_count": 58,
   "id": "de5dc792",
   "metadata": {
    "execution": {
     "iopub.execute_input": "2023-11-05T02:01:07.716484Z",
     "iopub.status.busy": "2023-11-05T02:01:07.715582Z",
     "iopub.status.idle": "2023-11-05T02:01:07.721903Z",
     "shell.execute_reply": "2023-11-05T02:01:07.721169Z"
    },
    "papermill": {
     "duration": 0.037856,
     "end_time": "2023-11-05T02:01:07.723891",
     "exception": false,
     "start_time": "2023-11-05T02:01:07.686035",
     "status": "completed"
    },
    "tags": []
   },
   "outputs": [],
   "source": [
    "data[\"Level\"] = data[\"Level\"].astype(int)\n",
    "data[\"Floors numbers\"] = data[\"Floors numbers\"].astype(int)"
   ]
  },
  {
   "cell_type": "markdown",
   "id": "67be5439",
   "metadata": {
    "papermill": {
     "duration": 0.027436,
     "end_time": "2023-11-05T02:01:07.779772",
     "exception": false,
     "start_time": "2023-11-05T02:01:07.752336",
     "status": "completed"
    },
    "tags": []
   },
   "source": [
    "### Heatmap of Correlation"
   ]
  },
  {
   "cell_type": "code",
   "execution_count": 59,
   "id": "1ea168b7",
   "metadata": {
    "execution": {
     "iopub.execute_input": "2023-11-05T02:01:07.836686Z",
     "iopub.status.busy": "2023-11-05T02:01:07.836076Z",
     "iopub.status.idle": "2023-11-05T02:01:08.380361Z",
     "shell.execute_reply": "2023-11-05T02:01:08.379170Z"
    },
    "papermill": {
     "duration": 0.575148,
     "end_time": "2023-11-05T02:01:08.382679",
     "exception": false,
     "start_time": "2023-11-05T02:01:07.807531",
     "status": "completed"
    },
    "tags": []
   },
   "outputs": [
    {
     "data": {
      "image/png": "[encoded data removed]",
      "text/plain": [
       "<Figure size 1000x600 with 2 Axes>"
      ]
     },
     "metadata": {},
     "output_type": "display_data"
    }
   ],
   "source": [
    "plt.figure(figsize = (10,6))\n",
    "sns.heatmap(data.select_dtypes(exclude = object).corr(), annot = True, fmt = \".2f\", linewidths = 0.2)\n",
    "plt.show()"
   ]
  },
  {
   "cell_type": "code",
   "execution_count": 60,
   "id": "2b93b10c",
   "metadata": {
    "execution": {
     "iopub.execute_input": "2023-11-05T02:01:08.441529Z",
     "iopub.status.busy": "2023-11-05T02:01:08.441179Z",
     "iopub.status.idle": "2023-11-05T02:01:08.447099Z",
     "shell.execute_reply": "2023-11-05T02:01:08.446310Z"
    },
    "papermill": {
     "duration": 0.03759,
     "end_time": "2023-11-05T02:01:08.448852",
     "exception": false,
     "start_time": "2023-11-05T02:01:08.411262",
     "status": "completed"
    },
    "tags": []
   },
   "outputs": [],
   "source": [
    "data.drop(columns = [\"Year\", \"Month\", \"Season\", \"Area Locality\"], inplace = True)"
   ]
  },
  {
   "cell_type": "code",
   "execution_count": 61,
   "id": "06f946a4",
   "metadata": {
    "execution": {
     "iopub.execute_input": "2023-11-05T02:01:08.507200Z",
     "iopub.status.busy": "2023-11-05T02:01:08.506854Z",
     "iopub.status.idle": "2023-11-05T02:01:08.520085Z",
     "shell.execute_reply": "2023-11-05T02:01:08.519353Z"
    },
    "papermill": {
     "duration": 0.044717,
     "end_time": "2023-11-05T02:01:08.521966",
     "exception": false,
     "start_time": "2023-11-05T02:01:08.477249",
     "status": "completed"
    },
    "tags": []
   },
   "outputs": [
    {
     "data": {
      "text/html": [
       "<div>\n",
       "<style scoped>\n",
       "    .dataframe tbody tr th:only-of-type {\n",
       "        vertical-align: middle;\n",
       "    }\n",
       "\n",
       "    .dataframe tbody tr th {\n",
       "        vertical-align: top;\n",
       "    }\n",
       "\n",
       "    .dataframe thead th {\n",
       "        text-align: right;\n",
       "    }\n",
       "</style>\n",
       "<table border=\"1\" class=\"dataframe\">\n",
       "  <thead>\n",
       "    <tr style=\"text-align: right;\">\n",
       "      <th></th>\n",
       "      <th>BHK</th>\n",
       "      <th>Rent</th>\n",
       "      <th>Size</th>\n",
       "      <th>Area Type</th>\n",
       "      <th>City</th>\n",
       "      <th>Furnishing Status</th>\n",
       "      <th>Tenant Preferred</th>\n",
       "      <th>Bathroom</th>\n",
       "      <th>Point of Contact</th>\n",
       "      <th>Level</th>\n",
       "      <th>Floors numbers</th>\n",
       "    </tr>\n",
       "  </thead>\n",
       "  <tbody>\n",
       "    <tr>\n",
       "      <th>2594</th>\n",
       "      <td>1</td>\n",
       "      <td>4000</td>\n",
       "      <td>125</td>\n",
       "      <td>Super Area</td>\n",
       "      <td>Delhi</td>\n",
       "      <td>Unfurnished</td>\n",
       "      <td>Bachelors/Family</td>\n",
       "      <td>1</td>\n",
       "      <td>Contact Owner</td>\n",
       "      <td>1</td>\n",
       "      <td>2</td>\n",
       "    </tr>\n",
       "    <tr>\n",
       "      <th>3739</th>\n",
       "      <td>2</td>\n",
       "      <td>19397</td>\n",
       "      <td>2000</td>\n",
       "      <td>Super Area</td>\n",
       "      <td>Chennai</td>\n",
       "      <td>Furnished</td>\n",
       "      <td>Bachelors/Family</td>\n",
       "      <td>2</td>\n",
       "      <td>Contact Owner</td>\n",
       "      <td>7</td>\n",
       "      <td>10</td>\n",
       "    </tr>\n",
       "    <tr>\n",
       "      <th>618</th>\n",
       "      <td>3</td>\n",
       "      <td>84500</td>\n",
       "      <td>1150</td>\n",
       "      <td>Carpet Area</td>\n",
       "      <td>Mumbai</td>\n",
       "      <td>Unfurnished</td>\n",
       "      <td>Family</td>\n",
       "      <td>3</td>\n",
       "      <td>Contact Agent</td>\n",
       "      <td>10</td>\n",
       "      <td>12</td>\n",
       "    </tr>\n",
       "  </tbody>\n",
       "</table>\n",
       "</div>"
      ],
      "text/plain": [
       "      BHK   Rent  Size    Area Type     City Furnishing Status  \\\n",
       "2594    1   4000   125   Super Area    Delhi       Unfurnished   \n",
       "3739    2  19397  2000   Super Area  Chennai         Furnished   \n",
       "618     3  84500  1150  Carpet Area   Mumbai       Unfurnished   \n",
       "\n",
       "      Tenant Preferred  Bathroom Point of Contact  Level  Floors numbers  \n",
       "2594  Bachelors/Family         1    Contact Owner      1               2  \n",
       "3739  Bachelors/Family         2    Contact Owner      7              10  \n",
       "618             Family         3    Contact Agent     10              12  "
      ]
     },
     "execution_count": 61,
     "metadata": {},
     "output_type": "execute_result"
    }
   ],
   "source": [
    "data.sample(3)"
   ]
  },
  {
   "cell_type": "markdown",
   "id": "88c2c713",
   "metadata": {
    "papermill": {
     "duration": 0.028477,
     "end_time": "2023-11-05T02:01:08.578704",
     "exception": false,
     "start_time": "2023-11-05T02:01:08.550227",
     "status": "completed"
    },
    "tags": []
   },
   "source": [
    "## Modeling"
   ]
  },
  {
   "cell_type": "code",
   "execution_count": 62,
   "id": "3e633a15",
   "metadata": {
    "execution": {
     "iopub.execute_input": "2023-11-05T02:01:08.637942Z",
     "iopub.status.busy": "2023-11-05T02:01:08.636987Z",
     "iopub.status.idle": "2023-11-05T02:01:09.233681Z",
     "shell.execute_reply": "2023-11-05T02:01:09.232570Z"
    },
    "papermill": {
     "duration": 0.628873,
     "end_time": "2023-11-05T02:01:09.236146",
     "exception": false,
     "start_time": "2023-11-05T02:01:08.607273",
     "status": "completed"
    },
    "tags": []
   },
   "outputs": [],
   "source": [
    "from sklearn.preprocessing import LabelEncoder\n",
    "from sklearn.model_selection import train_test_split\n",
    "from sklearn.preprocessing import MinMaxScaler\n",
    "from sklearn.ensemble import RandomForestRegressor\n",
    "from sklearn.metrics import mean_absolute_error,r2_score"
   ]
  },
  {
   "cell_type": "code",
   "execution_count": 63,
   "id": "ea2bcfed",
   "metadata": {
    "execution": {
     "iopub.execute_input": "2023-11-05T02:01:09.295474Z",
     "iopub.status.busy": "2023-11-05T02:01:09.295092Z",
     "iopub.status.idle": "2023-11-05T02:01:09.299887Z",
     "shell.execute_reply": "2023-11-05T02:01:09.298766Z"
    },
    "papermill": {
     "duration": 0.037053,
     "end_time": "2023-11-05T02:01:09.301994",
     "exception": false,
     "start_time": "2023-11-05T02:01:09.264941",
     "status": "completed"
    },
    "tags": []
   },
   "outputs": [],
   "source": [
    "encoder = LabelEncoder()"
   ]
  },
  {
   "cell_type": "code",
   "execution_count": 64,
   "id": "ce56c1d2",
   "metadata": {
    "execution": {
     "iopub.execute_input": "2023-11-05T02:01:09.360700Z",
     "iopub.status.busy": "2023-11-05T02:01:09.360324Z",
     "iopub.status.idle": "2023-11-05T02:01:09.373985Z",
     "shell.execute_reply": "2023-11-05T02:01:09.372716Z"
    },
    "papermill": {
     "duration": 0.045691,
     "end_time": "2023-11-05T02:01:09.376015",
     "exception": false,
     "start_time": "2023-11-05T02:01:09.330324",
     "status": "completed"
    },
    "tags": []
   },
   "outputs": [],
   "source": [
    "for column in data.select_dtypes(include = object).columns.tolist():\n",
    "    data[column] = encoder.fit_transform(data[column])"
   ]
  },
  {
   "cell_type": "code",
   "execution_count": 65,
   "id": "7eb4203e",
   "metadata": {
    "execution": {
     "iopub.execute_input": "2023-11-05T02:01:09.434367Z",
     "iopub.status.busy": "2023-11-05T02:01:09.433979Z",
     "iopub.status.idle": "2023-11-05T02:01:09.447549Z",
     "shell.execute_reply": "2023-11-05T02:01:09.446500Z"
    },
    "papermill": {
     "duration": 0.045171,
     "end_time": "2023-11-05T02:01:09.449575",
     "exception": false,
     "start_time": "2023-11-05T02:01:09.404404",
     "status": "completed"
    },
    "tags": []
   },
   "outputs": [
    {
     "data": {
      "text/html": [
       "<div>\n",
       "<style scoped>\n",
       "    .dataframe tbody tr th:only-of-type {\n",
       "        vertical-align: middle;\n",
       "    }\n",
       "\n",
       "    .dataframe tbody tr th {\n",
       "        vertical-align: top;\n",
       "    }\n",
       "\n",
       "    .dataframe thead th {\n",
       "        text-align: right;\n",
       "    }\n",
       "</style>\n",
       "<table border=\"1\" class=\"dataframe\">\n",
       "  <thead>\n",
       "    <tr style=\"text-align: right;\">\n",
       "      <th></th>\n",
       "      <th>BHK</th>\n",
       "      <th>Rent</th>\n",
       "      <th>Size</th>\n",
       "      <th>Area Type</th>\n",
       "      <th>City</th>\n",
       "      <th>Furnishing Status</th>\n",
       "      <th>Tenant Preferred</th>\n",
       "      <th>Bathroom</th>\n",
       "      <th>Point of Contact</th>\n",
       "      <th>Level</th>\n",
       "      <th>Floors numbers</th>\n",
       "    </tr>\n",
       "  </thead>\n",
       "  <tbody>\n",
       "    <tr>\n",
       "      <th>2980</th>\n",
       "      <td>2</td>\n",
       "      <td>12000</td>\n",
       "      <td>500</td>\n",
       "      <td>1</td>\n",
       "      <td>2</td>\n",
       "      <td>1</td>\n",
       "      <td>1</td>\n",
       "      <td>2</td>\n",
       "      <td>0</td>\n",
       "      <td>1</td>\n",
       "      <td>4</td>\n",
       "    </tr>\n",
       "    <tr>\n",
       "      <th>1246</th>\n",
       "      <td>2</td>\n",
       "      <td>72000</td>\n",
       "      <td>660</td>\n",
       "      <td>1</td>\n",
       "      <td>5</td>\n",
       "      <td>1</td>\n",
       "      <td>1</td>\n",
       "      <td>2</td>\n",
       "      <td>0</td>\n",
       "      <td>12</td>\n",
       "      <td>22</td>\n",
       "    </tr>\n",
       "    <tr>\n",
       "      <th>2559</th>\n",
       "      <td>2</td>\n",
       "      <td>7500</td>\n",
       "      <td>450</td>\n",
       "      <td>2</td>\n",
       "      <td>2</td>\n",
       "      <td>2</td>\n",
       "      <td>1</td>\n",
       "      <td>1</td>\n",
       "      <td>2</td>\n",
       "      <td>0</td>\n",
       "      <td>2</td>\n",
       "    </tr>\n",
       "  </tbody>\n",
       "</table>\n",
       "</div>"
      ],
      "text/plain": [
       "      BHK   Rent  Size  Area Type  City  Furnishing Status  Tenant Preferred  \\\n",
       "2980    2  12000   500          1     2                  1                 1   \n",
       "1246    2  72000   660          1     5                  1                 1   \n",
       "2559    2   7500   450          2     2                  2                 1   \n",
       "\n",
       "      Bathroom  Point of Contact  Level  Floors numbers  \n",
       "2980         2                 0      1               4  \n",
       "1246         2                 0     12              22  \n",
       "2559         1                 2      0               2  "
      ]
     },
     "execution_count": 65,
     "metadata": {},
     "output_type": "execute_result"
    }
   ],
   "source": [
    "data.sample(3)"
   ]
  },
  {
   "cell_type": "code",
   "execution_count": 66,
   "id": "b56c2cd5",
   "metadata": {
    "execution": {
     "iopub.execute_input": "2023-11-05T02:01:09.509409Z",
     "iopub.status.busy": "2023-11-05T02:01:09.509032Z",
     "iopub.status.idle": "2023-11-05T02:01:09.514691Z",
     "shell.execute_reply": "2023-11-05T02:01:09.513603Z"
    },
    "papermill": {
     "duration": 0.037504,
     "end_time": "2023-11-05T02:01:09.516769",
     "exception": false,
     "start_time": "2023-11-05T02:01:09.479265",
     "status": "completed"
    },
    "tags": []
   },
   "outputs": [],
   "source": [
    "data[\"Rent\"] = np.log10(data[\"Rent\"])"
   ]
  },
  {
   "cell_type": "code",
   "execution_count": 67,
   "id": "9e473a4d",
   "metadata": {
    "execution": {
     "iopub.execute_input": "2023-11-05T02:01:09.576710Z",
     "iopub.status.busy": "2023-11-05T02:01:09.576347Z",
     "iopub.status.idle": "2023-11-05T02:01:09.582359Z",
     "shell.execute_reply": "2023-11-05T02:01:09.581285Z"
    },
    "papermill": {
     "duration": 0.038178,
     "end_time": "2023-11-05T02:01:09.584411",
     "exception": false,
     "start_time": "2023-11-05T02:01:09.546233",
     "status": "completed"
    },
    "tags": []
   },
   "outputs": [],
   "source": [
    "Target = data[\"Rent\"]\n",
    "training = data.drop(columns = [\"Rent\"])"
   ]
  },
  {
   "cell_type": "code",
   "execution_count": 68,
   "id": "f0f897cf",
   "metadata": {
    "execution": {
     "iopub.execute_input": "2023-11-05T02:01:09.643370Z",
     "iopub.status.busy": "2023-11-05T02:01:09.642992Z",
     "iopub.status.idle": "2023-11-05T02:01:09.650999Z",
     "shell.execute_reply": "2023-11-05T02:01:09.650003Z"
    },
    "papermill": {
     "duration": 0.040175,
     "end_time": "2023-11-05T02:01:09.653190",
     "exception": false,
     "start_time": "2023-11-05T02:01:09.613015",
     "status": "completed"
    },
    "tags": []
   },
   "outputs": [],
   "source": [
    "X_train, X_test, y_train, y_test = train_test_split(training, Target, test_size = 0.3, random_state = 42)"
   ]
  },
  {
   "cell_type": "code",
   "execution_count": 69,
   "id": "4695f829",
   "metadata": {
    "execution": {
     "iopub.execute_input": "2023-11-05T02:01:09.713663Z",
     "iopub.status.busy": "2023-11-05T02:01:09.713277Z",
     "iopub.status.idle": "2023-11-05T02:01:09.718749Z",
     "shell.execute_reply": "2023-11-05T02:01:09.717789Z"
    },
    "papermill": {
     "duration": 0.038301,
     "end_time": "2023-11-05T02:01:09.720903",
     "exception": false,
     "start_time": "2023-11-05T02:01:09.682602",
     "status": "completed"
    },
    "tags": []
   },
   "outputs": [
    {
     "name": "stdout",
     "output_type": "stream",
     "text": [
      "x_train shape:  (3321, 10)\n",
      "x_test shape:  (1424, 10)\n",
      "y_train shape:  (3321,)\n",
      "y_test shape:  (1424,)\n"
     ]
    }
   ],
   "source": [
    "print(\"x_train shape: \", X_train.shape)\n",
    "print(\"x_test shape: \", X_test.shape)\n",
    "print(\"y_train shape: \", y_train.shape)\n",
    "print(\"y_test shape: \", y_test.shape)"
   ]
  },
  {
   "cell_type": "code",
   "execution_count": 70,
   "id": "14742067",
   "metadata": {
    "execution": {
     "iopub.execute_input": "2023-11-05T02:01:09.781871Z",
     "iopub.status.busy": "2023-11-05T02:01:09.780897Z",
     "iopub.status.idle": "2023-11-05T02:01:09.785930Z",
     "shell.execute_reply": "2023-11-05T02:01:09.784792Z"
    },
    "papermill": {
     "duration": 0.037959,
     "end_time": "2023-11-05T02:01:09.787981",
     "exception": false,
     "start_time": "2023-11-05T02:01:09.750022",
     "status": "completed"
    },
    "tags": []
   },
   "outputs": [],
   "source": [
    "model = RandomForestRegressor()"
   ]
  },
  {
   "cell_type": "code",
   "execution_count": 71,
   "id": "f902c70a",
   "metadata": {
    "execution": {
     "iopub.execute_input": "2023-11-05T02:01:09.846623Z",
     "iopub.status.busy": "2023-11-05T02:01:09.846251Z",
     "iopub.status.idle": "2023-11-05T02:01:10.801395Z",
     "shell.execute_reply": "2023-11-05T02:01:10.800527Z"
    },
    "papermill": {
     "duration": 0.987238,
     "end_time": "2023-11-05T02:01:10.803799",
     "exception": false,
     "start_time": "2023-11-05T02:01:09.816561",
     "status": "completed"
    },
    "tags": []
   },
   "outputs": [
    {
     "data": {
      "text/html": [
       "<style>#sk-container-id-1 {color: black;background-color: white;}#sk-container-id-1 pre{padding: 0;}#sk-container-id-1 div.sk-toggleable {background-color: white;}#sk-container-id-1 label.sk-toggleable__label {cursor: pointer;display: block;width: 100%;margin-bottom: 0;padding: 0.3em;box-sizing: border-box;text-align: center;}#sk-container-id-1 label.sk-toggleable__label-arrow:before {content: \"▸\";float: left;margin-right: 0.25em;color: #696969;}#sk-container-id-1 label.sk-toggleable__label-arrow:hover:before {color: black;}#sk-container-id-1 div.sk-estimator:hover label.sk-toggleable__label-arrow:before {color: black;}#sk-container-id-1 div.sk-toggleable__content {max-height: 0;max-width: 0;overflow: hidden;text-align: left;background-color: #f0f8ff;}#sk-container-id-1 div.sk-toggleable__content pre {margin: 0.2em;color: black;border-radius: 0.25em;background-color: #f0f8ff;}#sk-container-id-1 input.sk-toggleable__control:checked~div.sk-toggleable__content {max-height: 200px;max-width: 100%;overflow: auto;}#sk-container-id-1 input.sk-toggleable__control:checked~label.sk-toggleable__label-arrow:before {content: \"▾\";}#sk-container-id-1 div.sk-estimator input.sk-toggleable__control:checked~label.sk-toggleable__label {background-color: #d4ebff;}#sk-container-id-1 div.sk-label input.sk-toggleable__control:checked~label.sk-toggleable__label {background-color: #d4ebff;}#sk-container-id-1 input.sk-hidden--visually {border: 0;clip: rect(1px 1px 1px 1px);clip: rect(1px, 1px, 1px, 1px);height: 1px;margin: -1px;overflow: hidden;padding: 0;position: absolute;width: 1px;}#sk-container-id-1 div.sk-estimator {font-family: monospace;background-color: #f0f8ff;border: 1px dotted black;border-radius: 0.25em;box-sizing: border-box;margin-bottom: 0.5em;}#sk-container-id-1 div.sk-estimator:hover {background-color: #d4ebff;}#sk-container-id-1 div.sk-parallel-item::after {content: \"\";width: 100%;border-bottom: 1px solid gray;flex-grow: 1;}#sk-container-id-1 div.sk-label:hover label.sk-toggleable__label {background-color: #d4ebff;}#sk-container-id-1 div.sk-serial::before {content: \"\";position: absolute;border-left: 1px solid gray;box-sizing: border-box;top: 0;bottom: 0;left: 50%;z-index: 0;}#sk-container-id-1 div.sk-serial {display: flex;flex-direction: column;align-items: center;background-color: white;padding-right: 0.2em;padding-left: 0.2em;position: relative;}#sk-container-id-1 div.sk-item {position: relative;z-index: 1;}#sk-container-id-1 div.sk-parallel {display: flex;align-items: stretch;justify-content: center;background-color: white;position: relative;}#sk-container-id-1 div.sk-item::before, #sk-container-id-1 div.sk-parallel-item::before {content: \"\";position: absolute;border-left: 1px solid gray;box-sizing: border-box;top: 0;bottom: 0;left: 50%;z-index: -1;}#sk-container-id-1 div.sk-parallel-item {display: flex;flex-direction: column;z-index: 1;position: relative;background-color: white;}#sk-container-id-1 div.sk-parallel-item:first-child::after {align-self: flex-end;width: 50%;}#sk-container-id-1 div.sk-parallel-item:last-child::after {align-self: flex-start;width: 50%;}#sk-container-id-1 div.sk-parallel-item:only-child::after {width: 0;}#sk-container-id-1 div.sk-dashed-wrapped {border: 1px dashed gray;margin: 0 0.4em 0.5em 0.4em;box-sizing: border-box;padding-bottom: 0.4em;background-color: white;}#sk-container-id-1 div.sk-label label {font-family: monospace;font-weight: bold;display: inline-block;line-height: 1.2em;}#sk-container-id-1 div.sk-label-container {text-align: center;}#sk-container-id-1 div.sk-container {/* jupyter's `normalize.less` sets `[hidden] { display: none; }` but bootstrap.min.css set `[hidden] { display: none !important; }` so we also need the `!important` here to be able to override the default hidden behavior on the sphinx rendered scikit-learn.org. See: https://github.com/scikit-learn/scikit-learn/issues/21755 */display: inline-block !important;position: relative;}#sk-container-id-1 div.sk-text-repr-fallback {display: none;}</style><div id=\"sk-container-id-1\" class=\"sk-top-container\"><div class=\"sk-text-repr-fallback\"><pre>RandomForestRegressor()</pre><b>In a Jupyter environment, please rerun this cell to show the HTML representation or trust the notebook. <br />On GitHub, the HTML representation is unable to render, please try loading this page with nbviewer.org.</b></div><div class=\"sk-container\" hidden><div class=\"sk-item\"><div class=\"sk-estimator sk-toggleable\"><input class=\"sk-toggleable__control sk-hidden--visually\" id=\"sk-estimator-id-1\" type=\"checkbox\" checked><label for=\"sk-estimator-id-1\" class=\"sk-toggleable__label sk-toggleable__label-arrow\">RandomForestRegressor</label><div class=\"sk-toggleable__content\"><pre>RandomForestRegressor()</pre></div></div></div></div></div>"
      ],
      "text/plain": [
       "RandomForestRegressor()"
      ]
     },
     "execution_count": 71,
     "metadata": {},
     "output_type": "execute_result"
    }
   ],
   "source": [
    "model.fit(X_train,y_train)"
   ]
  },
  {
   "cell_type": "code",
   "execution_count": 72,
   "id": "c170de51",
   "metadata": {
    "execution": {
     "iopub.execute_input": "2023-11-05T02:01:10.873576Z",
     "iopub.status.busy": "2023-11-05T02:01:10.873217Z",
     "iopub.status.idle": "2023-11-05T02:01:10.954675Z",
     "shell.execute_reply": "2023-11-05T02:01:10.953333Z"
    },
    "papermill": {
     "duration": 0.117318,
     "end_time": "2023-11-05T02:01:10.957448",
     "exception": false,
     "start_time": "2023-11-05T02:01:10.840130",
     "status": "completed"
    },
    "tags": []
   },
   "outputs": [
    {
     "data": {
      "text/plain": [
       "0.9697994137600893"
      ]
     },
     "execution_count": 72,
     "metadata": {},
     "output_type": "execute_result"
    }
   ],
   "source": [
    "model.score(X_train, y_train)"
   ]
  },
  {
   "cell_type": "code",
   "execution_count": 73,
   "id": "deac1cb9",
   "metadata": {
    "execution": {
     "iopub.execute_input": "2023-11-05T02:01:11.029102Z",
     "iopub.status.busy": "2023-11-05T02:01:11.028196Z",
     "iopub.status.idle": "2023-11-05T02:01:11.070332Z",
     "shell.execute_reply": "2023-11-05T02:01:11.069307Z"
    },
    "papermill": {
     "duration": 0.07703,
     "end_time": "2023-11-05T02:01:11.072999",
     "exception": false,
     "start_time": "2023-11-05T02:01:10.995969",
     "status": "completed"
    },
    "tags": []
   },
   "outputs": [],
   "source": [
    "predict = model.predict(X_test)"
   ]
  },
  {
   "cell_type": "code",
   "execution_count": 74,
   "id": "3d7a943a",
   "metadata": {
    "execution": {
     "iopub.execute_input": "2023-11-05T02:01:11.135150Z",
     "iopub.status.busy": "2023-11-05T02:01:11.134435Z",
     "iopub.status.idle": "2023-11-05T02:01:11.418969Z",
     "shell.execute_reply": "2023-11-05T02:01:11.417906Z"
    },
    "papermill": {
     "duration": 0.318451,
     "end_time": "2023-11-05T02:01:11.421225",
     "exception": false,
     "start_time": "2023-11-05T02:01:11.102774",
     "status": "completed"
    },
    "tags": []
   },
   "outputs": [
    {
     "data": {
      "image/png": "[encoded data removed]",
      "text/plain": [
       "<Figure size 640x480 with 1 Axes>"
      ]
     },
     "metadata": {},
     "output_type": "display_data"
    }
   ],
   "source": [
    "plt.scatter(y_test, predict)\n",
    "plt.show()"
   ]
  },
  {
   "cell_type": "code",
   "execution_count": 75,
   "id": "b9c2987d",
   "metadata": {
    "execution": {
     "iopub.execute_input": "2023-11-05T02:01:11.484344Z",
     "iopub.status.busy": "2023-11-05T02:01:11.483301Z",
     "iopub.status.idle": "2023-11-05T02:01:11.490801Z",
     "shell.execute_reply": "2023-11-05T02:01:11.490041Z"
    },
    "papermill": {
     "duration": 0.041481,
     "end_time": "2023-11-05T02:01:11.492781",
     "exception": false,
     "start_time": "2023-11-05T02:01:11.451300",
     "status": "completed"
    },
    "tags": []
   },
   "outputs": [
    {
     "data": {
      "text/plain": [
       "0.8235914275440872"
      ]
     },
     "execution_count": 75,
     "metadata": {},
     "output_type": "execute_result"
    }
   ],
   "source": [
    "r2_score(y_test,predict)"
   ]
  },
  {
   "cell_type": "code",
   "execution_count": 76,
   "id": "2b3b7ba6",
   "metadata": {
    "execution": {
     "iopub.execute_input": "2023-11-05T02:01:11.556242Z",
     "iopub.status.busy": "2023-11-05T02:01:11.555868Z",
     "iopub.status.idle": "2023-11-05T02:01:11.563321Z",
     "shell.execute_reply": "2023-11-05T02:01:11.562576Z"
    },
    "papermill": {
     "duration": 0.042239,
     "end_time": "2023-11-05T02:01:11.565301",
     "exception": false,
     "start_time": "2023-11-05T02:01:11.523062",
     "status": "completed"
    },
    "tags": []
   },
   "outputs": [
    {
     "data": {
      "text/plain": [
       "0.12814793544121164"
      ]
     },
     "execution_count": 76,
     "metadata": {},
     "output_type": "execute_result"
    }
   ],
   "source": [
    "mean_absolute_error(y_test,predict)"
   ]
  }
 ],
 "metadata": {
  "kernelspec": {
   "display_name": "Python 3",
   "language": "python",
   "name": "python3"
  },
  "language_info": {
   "codemirror_mode": {
    "name": "ipython",
    "version": 3
   },
   "file_extension": ".py",
   "mimetype": "text/x-python",
   "name": "python",
   "nbconvert_exporter": "python",
   "pygments_lexer": "ipython3",
   "version": "3.10.12"
  },
  "papermill": {
   "default_parameters": {},
   "duration": 18.234026,
   "end_time": "2023-11-05T02:01:12.216406",
   "environment_variables": {},
   "exception": null,
   "input_path": "__notebook__.ipynb",
   "output_path": "__notebook__.ipynb",
   "parameters": {},
   "start_time": "2023-11-05T02:00:53.982380",
   "version": "2.4.0"
  }
 },
 "nbformat": 4,
 "nbformat_minor": 5
}
